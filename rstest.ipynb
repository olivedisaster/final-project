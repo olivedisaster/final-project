{
 "cells": [
  {
   "cell_type": "code",
   "execution_count": 1,
   "metadata": {},
   "outputs": [],
   "source": [
    "%matplotlib inline\n",
    "import matplotlib.pyplot as plt\n",
    "import pandas as pd\n",
    "import os\n",
    "import xgboost as xgb\n",
    "import numpy as np \n",
    "\n",
    "from numpy import loadtxt\n",
    "from xgboost import XGBClassifier\n",
    "from sklearn.model_selection import train_test_split\n",
    "from sklearn.metrics import accuracy_score\n",
    "from sklearn.linear_model import LogisticRegression\n",
    "from sklearn.svm import SVC\n",
    "from IPython.display import display\n",
    "from sklearn import tree"
   ]
  },
  {
   "cell_type": "code",
   "execution_count": 2,
   "metadata": {},
   "outputs": [],
   "source": [
    "# !pip install xgboost\n"
   ]
  },
  {
   "cell_type": "markdown",
   "metadata": {},
   "source": [
    "# Exploring \"games\" csv"
   ]
  },
  {
   "cell_type": "code",
   "execution_count": 3,
   "metadata": {
    "scrolled": true
   },
   "outputs": [
    {
     "data": {
      "text/html": [
       "<div>\n",
       "<style scoped>\n",
       "    .dataframe tbody tr th:only-of-type {\n",
       "        vertical-align: middle;\n",
       "    }\n",
       "\n",
       "    .dataframe tbody tr th {\n",
       "        vertical-align: top;\n",
       "    }\n",
       "\n",
       "    .dataframe thead th {\n",
       "        text-align: right;\n",
       "    }\n",
       "</style>\n",
       "<table border=\"1\" class=\"dataframe\">\n",
       "  <thead>\n",
       "    <tr style=\"text-align: right;\">\n",
       "      <th></th>\n",
       "      <th>GAME_DATE_EST</th>\n",
       "      <th>GAME_ID</th>\n",
       "      <th>GAME_STATUS_TEXT</th>\n",
       "      <th>HOME_TEAM_ID</th>\n",
       "      <th>VISITOR_TEAM_ID</th>\n",
       "      <th>SEASON</th>\n",
       "      <th>TEAM_ID_home</th>\n",
       "      <th>PTS_home</th>\n",
       "      <th>FG_PCT_home</th>\n",
       "      <th>FT_PCT_home</th>\n",
       "      <th>...</th>\n",
       "      <th>AST_home</th>\n",
       "      <th>REB_home</th>\n",
       "      <th>TEAM_ID_away</th>\n",
       "      <th>PTS_away</th>\n",
       "      <th>FG_PCT_away</th>\n",
       "      <th>FT_PCT_away</th>\n",
       "      <th>FG3_PCT_away</th>\n",
       "      <th>AST_away</th>\n",
       "      <th>REB_away</th>\n",
       "      <th>HOME_TEAM_WINS</th>\n",
       "    </tr>\n",
       "  </thead>\n",
       "  <tbody>\n",
       "    <tr>\n",
       "      <th>0</th>\n",
       "      <td>2020-12-19</td>\n",
       "      <td>12000047</td>\n",
       "      <td>Final</td>\n",
       "      <td>1610612753</td>\n",
       "      <td>1610612766</td>\n",
       "      <td>2020</td>\n",
       "      <td>1610612753</td>\n",
       "      <td>120.0</td>\n",
       "      <td>0.433</td>\n",
       "      <td>0.792</td>\n",
       "      <td>...</td>\n",
       "      <td>23.0</td>\n",
       "      <td>50.0</td>\n",
       "      <td>1610612766</td>\n",
       "      <td>117.0</td>\n",
       "      <td>0.444</td>\n",
       "      <td>0.864</td>\n",
       "      <td>0.439</td>\n",
       "      <td>21.0</td>\n",
       "      <td>52.0</td>\n",
       "      <td>1</td>\n",
       "    </tr>\n",
       "    <tr>\n",
       "      <th>1</th>\n",
       "      <td>2020-12-19</td>\n",
       "      <td>12000048</td>\n",
       "      <td>Final</td>\n",
       "      <td>1610612764</td>\n",
       "      <td>1610612765</td>\n",
       "      <td>2020</td>\n",
       "      <td>1610612764</td>\n",
       "      <td>99.0</td>\n",
       "      <td>0.427</td>\n",
       "      <td>0.625</td>\n",
       "      <td>...</td>\n",
       "      <td>24.0</td>\n",
       "      <td>45.0</td>\n",
       "      <td>1610612765</td>\n",
       "      <td>96.0</td>\n",
       "      <td>0.402</td>\n",
       "      <td>0.647</td>\n",
       "      <td>0.326</td>\n",
       "      <td>18.0</td>\n",
       "      <td>51.0</td>\n",
       "      <td>1</td>\n",
       "    </tr>\n",
       "    <tr>\n",
       "      <th>2</th>\n",
       "      <td>2020-12-19</td>\n",
       "      <td>12000049</td>\n",
       "      <td>Final</td>\n",
       "      <td>1610612763</td>\n",
       "      <td>1610612737</td>\n",
       "      <td>2020</td>\n",
       "      <td>1610612763</td>\n",
       "      <td>116.0</td>\n",
       "      <td>0.400</td>\n",
       "      <td>0.744</td>\n",
       "      <td>...</td>\n",
       "      <td>21.0</td>\n",
       "      <td>43.0</td>\n",
       "      <td>1610612737</td>\n",
       "      <td>117.0</td>\n",
       "      <td>0.422</td>\n",
       "      <td>0.837</td>\n",
       "      <td>0.297</td>\n",
       "      <td>24.0</td>\n",
       "      <td>47.0</td>\n",
       "      <td>0</td>\n",
       "    </tr>\n",
       "  </tbody>\n",
       "</table>\n",
       "<p>3 rows × 21 columns</p>\n",
       "</div>"
      ],
      "text/plain": [
       "  GAME_DATE_EST   GAME_ID GAME_STATUS_TEXT HOME_TEAM_ID VISITOR_TEAM_ID  \\\n",
       "0    2020-12-19  12000047            Final   1610612753      1610612766   \n",
       "1    2020-12-19  12000048            Final   1610612764      1610612765   \n",
       "2    2020-12-19  12000049            Final   1610612763      1610612737   \n",
       "\n",
       "   SEASON  TEAM_ID_home  PTS_home  FG_PCT_home  FT_PCT_home  ...  AST_home  \\\n",
       "0    2020    1610612753     120.0        0.433        0.792  ...      23.0   \n",
       "1    2020    1610612764      99.0        0.427        0.625  ...      24.0   \n",
       "2    2020    1610612763     116.0        0.400        0.744  ...      21.0   \n",
       "\n",
       "   REB_home  TEAM_ID_away  PTS_away  FG_PCT_away  FT_PCT_away  FG3_PCT_away  \\\n",
       "0      50.0    1610612766     117.0        0.444        0.864         0.439   \n",
       "1      45.0    1610612765      96.0        0.402        0.647         0.326   \n",
       "2      43.0    1610612737     117.0        0.422        0.837         0.297   \n",
       "\n",
       "   AST_away  REB_away  HOME_TEAM_WINS  \n",
       "0      21.0      52.0               1  \n",
       "1      18.0      51.0               1  \n",
       "2      24.0      47.0               0  \n",
       "\n",
       "[3 rows x 21 columns]"
      ]
     },
     "execution_count": 3,
     "metadata": {},
     "output_type": "execute_result"
    }
   ],
   "source": [
    "#load data\n",
    "games = pd.read_csv('Data/games.csv', dtype = {'GAME_ID': str, 'HOME_TEAM_ID': str, 'VISITOR_TEAM_ID': str})\n",
    "games.head(3)"
   ]
  },
  {
   "cell_type": "code",
   "execution_count": 4,
   "metadata": {},
   "outputs": [
    {
     "data": {
      "text/plain": [
       "GAME_DATE_EST        object\n",
       "GAME_ID              object\n",
       "GAME_STATUS_TEXT     object\n",
       "HOME_TEAM_ID         object\n",
       "VISITOR_TEAM_ID      object\n",
       "SEASON                int64\n",
       "TEAM_ID_home          int64\n",
       "PTS_home            float64\n",
       "FG_PCT_home         float64\n",
       "FT_PCT_home         float64\n",
       "FG3_PCT_home        float64\n",
       "AST_home            float64\n",
       "REB_home            float64\n",
       "TEAM_ID_away          int64\n",
       "PTS_away            float64\n",
       "FG_PCT_away         float64\n",
       "FT_PCT_away         float64\n",
       "FG3_PCT_away        float64\n",
       "AST_away            float64\n",
       "REB_away            float64\n",
       "HOME_TEAM_WINS        int64\n",
       "dtype: object"
      ]
     },
     "execution_count": 4,
     "metadata": {},
     "output_type": "execute_result"
    }
   ],
   "source": [
    "games.dtypes"
   ]
  },
  {
   "cell_type": "code",
   "execution_count": null,
   "metadata": {},
   "outputs": [],
   "source": []
  },
  {
   "cell_type": "code",
   "execution_count": 5,
   "metadata": {},
   "outputs": [
    {
     "data": {
      "text/html": [
       "<div>\n",
       "<style scoped>\n",
       "    .dataframe tbody tr th:only-of-type {\n",
       "        vertical-align: middle;\n",
       "    }\n",
       "\n",
       "    .dataframe tbody tr th {\n",
       "        vertical-align: top;\n",
       "    }\n",
       "\n",
       "    .dataframe thead th {\n",
       "        text-align: right;\n",
       "    }\n",
       "</style>\n",
       "<table border=\"1\" class=\"dataframe\">\n",
       "  <thead>\n",
       "    <tr style=\"text-align: right;\">\n",
       "      <th></th>\n",
       "      <th>GAME_DATE_EST</th>\n",
       "      <th>GAME_ID</th>\n",
       "      <th>GAME_STATUS_TEXT</th>\n",
       "      <th>HOME_TEAM_ID</th>\n",
       "      <th>VISITOR_TEAM_ID</th>\n",
       "      <th>SEASON</th>\n",
       "      <th>TEAM_ID_home</th>\n",
       "      <th>PTS_home</th>\n",
       "      <th>FG_PCT_home</th>\n",
       "      <th>FT_PCT_home</th>\n",
       "      <th>...</th>\n",
       "      <th>AST_home</th>\n",
       "      <th>REB_home</th>\n",
       "      <th>TEAM_ID_away</th>\n",
       "      <th>PTS_away</th>\n",
       "      <th>FG_PCT_away</th>\n",
       "      <th>FT_PCT_away</th>\n",
       "      <th>FG3_PCT_away</th>\n",
       "      <th>AST_away</th>\n",
       "      <th>REB_away</th>\n",
       "      <th>HOME_TEAM_WINS</th>\n",
       "    </tr>\n",
       "  </thead>\n",
       "  <tbody>\n",
       "  </tbody>\n",
       "</table>\n",
       "<p>0 rows × 21 columns</p>\n",
       "</div>"
      ],
      "text/plain": [
       "Empty DataFrame\n",
       "Columns: [GAME_DATE_EST, GAME_ID, GAME_STATUS_TEXT, HOME_TEAM_ID, VISITOR_TEAM_ID, SEASON, TEAM_ID_home, PTS_home, FG_PCT_home, FT_PCT_home, FG3_PCT_home, AST_home, REB_home, TEAM_ID_away, PTS_away, FG_PCT_away, FT_PCT_away, FG3_PCT_away, AST_away, REB_away, HOME_TEAM_WINS]\n",
       "Index: []\n",
       "\n",
       "[0 rows x 21 columns]"
      ]
     },
     "execution_count": 5,
     "metadata": {},
     "output_type": "execute_result"
    }
   ],
   "source": [
    "games.loc[games['HOME_TEAM_ID']==1610612753,:].sort_values(by='GAME_DATE_EST')"
   ]
  },
  {
   "cell_type": "code",
   "execution_count": 6,
   "metadata": {},
   "outputs": [],
   "source": [
    "games = games.dropna()"
   ]
  },
  {
   "cell_type": "code",
   "execution_count": 7,
   "metadata": {},
   "outputs": [],
   "source": [
    "games = games.replace([np.inf, -np.inf], np.nan).dropna(axis=0)"
   ]
  },
  {
   "cell_type": "code",
   "execution_count": 8,
   "metadata": {},
   "outputs": [],
   "source": [
    "bulls = games.loc[games['HOME_TEAM_ID']==1610612753,:].sort_values(by='GAME_DATE_EST')"
   ]
  },
  {
   "cell_type": "code",
   "execution_count": null,
   "metadata": {},
   "outputs": [],
   "source": []
  },
  {
   "cell_type": "code",
   "execution_count": 9,
   "metadata": {},
   "outputs": [],
   "source": [
    "bulls = bulls[['GAME_DATE_EST', 'GAME_ID', 'HOME_TEAM_ID', 'FG_PCT_home', 'FT_PCT_home', 'FG3_PCT_home', 'AST_home', 'REB_home', 'HOME_TEAM_WINS'\n",
    "]]"
   ]
  },
  {
   "cell_type": "code",
   "execution_count": 10,
   "metadata": {},
   "outputs": [
    {
     "data": {
      "text/html": [
       "<div>\n",
       "<style scoped>\n",
       "    .dataframe tbody tr th:only-of-type {\n",
       "        vertical-align: middle;\n",
       "    }\n",
       "\n",
       "    .dataframe tbody tr th {\n",
       "        vertical-align: top;\n",
       "    }\n",
       "\n",
       "    .dataframe thead th {\n",
       "        text-align: right;\n",
       "    }\n",
       "</style>\n",
       "<table border=\"1\" class=\"dataframe\">\n",
       "  <thead>\n",
       "    <tr style=\"text-align: right;\">\n",
       "      <th></th>\n",
       "      <th>GAME_DATE_EST</th>\n",
       "      <th>GAME_ID</th>\n",
       "      <th>HOME_TEAM_ID</th>\n",
       "      <th>FG_PCT_home</th>\n",
       "      <th>FT_PCT_home</th>\n",
       "      <th>FG3_PCT_home</th>\n",
       "      <th>AST_home</th>\n",
       "      <th>REB_home</th>\n",
       "      <th>HOME_TEAM_WINS</th>\n",
       "    </tr>\n",
       "  </thead>\n",
       "  <tbody>\n",
       "  </tbody>\n",
       "</table>\n",
       "</div>"
      ],
      "text/plain": [
       "Empty DataFrame\n",
       "Columns: [GAME_DATE_EST, GAME_ID, HOME_TEAM_ID, FG_PCT_home, FT_PCT_home, FG3_PCT_home, AST_home, REB_home, HOME_TEAM_WINS]\n",
       "Index: []"
      ]
     },
     "execution_count": 10,
     "metadata": {},
     "output_type": "execute_result"
    }
   ],
   "source": [
    "bulls.head()"
   ]
  },
  {
   "cell_type": "code",
   "execution_count": 11,
   "metadata": {},
   "outputs": [
    {
     "data": {
      "text/plain": [
       "array(['1610612753', '1610612764', '1610612763', '1610612754',\n",
       "       '1610612761', '1610612752', '1610612738', '1610612740',\n",
       "       '1610612760', '1610612743', '1610612756', '1610612745',\n",
       "       '1610612742', '1610612758', '1610612746', '1610612755',\n",
       "       '1610612739', '1610612766', '1610612748', '1610612749',\n",
       "       '1610612750', '1610612762', '1610612737', '1610612751',\n",
       "       '1610612765', '1610612741', '1610612747', '1610612757',\n",
       "       '1610612759', '1610612744'], dtype=object)"
      ]
     },
     "execution_count": 11,
     "metadata": {},
     "output_type": "execute_result"
    }
   ],
   "source": [
    "games['HOME_TEAM_ID'].unique()"
   ]
  },
  {
   "cell_type": "code",
   "execution_count": 12,
   "metadata": {},
   "outputs": [
    {
     "data": {
      "text/html": [
       "<div>\n",
       "<style scoped>\n",
       "    .dataframe tbody tr th:only-of-type {\n",
       "        vertical-align: middle;\n",
       "    }\n",
       "\n",
       "    .dataframe tbody tr th {\n",
       "        vertical-align: top;\n",
       "    }\n",
       "\n",
       "    .dataframe thead th {\n",
       "        text-align: right;\n",
       "    }\n",
       "</style>\n",
       "<table border=\"1\" class=\"dataframe\">\n",
       "  <thead>\n",
       "    <tr style=\"text-align: right;\">\n",
       "      <th></th>\n",
       "      <th>GAME_DATE_EST</th>\n",
       "      <th>GAME_ID</th>\n",
       "      <th>HOME_TEAM_ID</th>\n",
       "      <th>HOME_TEAM_WINS</th>\n",
       "      <th>FG_PCTHOME_ROllING</th>\n",
       "      <th>FT_PCTHOME_ROllING</th>\n",
       "      <th>FG3_PCTHOME_ROllING</th>\n",
       "      <th>AST_home_ROllING</th>\n",
       "      <th>REB_home_ROllING</th>\n",
       "    </tr>\n",
       "  </thead>\n",
       "  <tbody>\n",
       "    <tr>\n",
       "      <th>16017</th>\n",
       "      <td>2003-11-01</td>\n",
       "      <td>20300028</td>\n",
       "      <td>1610612753</td>\n",
       "      <td>0.0</td>\n",
       "      <td>0.400</td>\n",
       "      <td>0.8050</td>\n",
       "      <td>0.3665</td>\n",
       "      <td>17.0</td>\n",
       "      <td>34.5</td>\n",
       "    </tr>\n",
       "    <tr>\n",
       "      <th>16002</th>\n",
       "      <td>2003-11-03</td>\n",
       "      <td>20300041</td>\n",
       "      <td>1610612753</td>\n",
       "      <td>0.0</td>\n",
       "      <td>0.320</td>\n",
       "      <td>0.7885</td>\n",
       "      <td>0.3335</td>\n",
       "      <td>14.5</td>\n",
       "      <td>40.0</td>\n",
       "    </tr>\n",
       "    <tr>\n",
       "      <th>15992</th>\n",
       "      <td>2003-11-05</td>\n",
       "      <td>20300054</td>\n",
       "      <td>1610612753</td>\n",
       "      <td>0.0</td>\n",
       "      <td>0.355</td>\n",
       "      <td>0.7575</td>\n",
       "      <td>0.3250</td>\n",
       "      <td>17.0</td>\n",
       "      <td>41.5</td>\n",
       "    </tr>\n",
       "    <tr>\n",
       "      <th>15979</th>\n",
       "      <td>2003-11-07</td>\n",
       "      <td>20300069</td>\n",
       "      <td>1610612753</td>\n",
       "      <td>0.0</td>\n",
       "      <td>0.424</td>\n",
       "      <td>0.6190</td>\n",
       "      <td>0.3470</td>\n",
       "      <td>19.0</td>\n",
       "      <td>35.0</td>\n",
       "    </tr>\n",
       "    <tr>\n",
       "      <th>15941</th>\n",
       "      <td>2003-11-12</td>\n",
       "      <td>20300105</td>\n",
       "      <td>1610612753</td>\n",
       "      <td>0.0</td>\n",
       "      <td>0.420</td>\n",
       "      <td>0.6025</td>\n",
       "      <td>0.2720</td>\n",
       "      <td>18.5</td>\n",
       "      <td>40.5</td>\n",
       "    </tr>\n",
       "  </tbody>\n",
       "</table>\n",
       "</div>"
      ],
      "text/plain": [
       "      GAME_DATE_EST   GAME_ID HOME_TEAM_ID  HOME_TEAM_WINS  \\\n",
       "16017    2003-11-01  20300028   1610612753             0.0   \n",
       "16002    2003-11-03  20300041   1610612753             0.0   \n",
       "15992    2003-11-05  20300054   1610612753             0.0   \n",
       "15979    2003-11-07  20300069   1610612753             0.0   \n",
       "15941    2003-11-12  20300105   1610612753             0.0   \n",
       "\n",
       "       FG_PCTHOME_ROllING  FT_PCTHOME_ROllING  FG3_PCTHOME_ROllING  \\\n",
       "16017               0.400              0.8050               0.3665   \n",
       "16002               0.320              0.7885               0.3335   \n",
       "15992               0.355              0.7575               0.3250   \n",
       "15979               0.424              0.6190               0.3470   \n",
       "15941               0.420              0.6025               0.2720   \n",
       "\n",
       "       AST_home_ROllING  REB_home_ROllING  \n",
       "16017              17.0              34.5  \n",
       "16002              14.5              40.0  \n",
       "15992              17.0              41.5  \n",
       "15979              19.0              35.0  \n",
       "15941              18.5              40.5  "
      ]
     },
     "execution_count": 12,
     "metadata": {},
     "output_type": "execute_result"
    }
   ],
   "source": [
    "home_var = {'GAME_DATE_EST': [], \n",
    "           'GAME_ID': [],\n",
    "           'HOME_TEAM_ID': [],\n",
    "           'FG_PCT_home': [],\n",
    "           'FT_PCT_home': [],\n",
    "           'FG3_PCT_home': [], 'AST_home': [], 'REB_home': [],'HOME_TEAM_WINS':[]\n",
    "           }\n",
    "\n",
    "\n",
    "home_data = pd.DataFrame(home_var)\n",
    "\n",
    "for team in games['HOME_TEAM_ID'].unique():\n",
    "    \n",
    "\n",
    "    temp_df = games.loc[games['HOME_TEAM_ID']==team,:].sort_values(by='GAME_DATE_EST')\n",
    "\n",
    "    temp_df = temp_df[['GAME_DATE_EST', 'GAME_ID', 'HOME_TEAM_ID', 'FG_PCT_home', 'FT_PCT_home', 'FG3_PCT_home', 'AST_home', 'REB_home', 'HOME_TEAM_WINS']]\n",
    "    \n",
    "#     print(bulls.rolling(2).mean())\n",
    "    temp_df['FG_PCTHOME_ROllING']=temp_df['FG_PCT_home'].rolling(2).mean()\n",
    "    temp_df['FT_PCTHOME_ROllING']=temp_df['FT_PCT_home'].rolling(2).mean()\n",
    "    temp_df['FG3_PCTHOME_ROllING']=temp_df['FG3_PCT_home'].rolling(2).mean()\n",
    "    temp_df['AST_home_ROllING']=temp_df['AST_home'].rolling(2).mean()\n",
    "    temp_df['REB_home_ROllING']=temp_df['REB_home'].rolling(2).mean()\n",
    "#     print(bulls.head())\n",
    "    home_data = home_data.append(temp_df)\n",
    "    \n",
    "    \n",
    "home_data = home_data.dropna()\n",
    "home_data = home_data.drop(columns = ['FG_PCT_home', 'FT_PCT_home', 'FG3_PCT_home', 'AST_home', 'REB_home'])\n",
    "home_data.head()"
   ]
  },
  {
   "cell_type": "code",
   "execution_count": 15,
   "metadata": {},
   "outputs": [
    {
     "data": {
      "text/html": [
       "<div>\n",
       "<style scoped>\n",
       "    .dataframe tbody tr th:only-of-type {\n",
       "        vertical-align: middle;\n",
       "    }\n",
       "\n",
       "    .dataframe tbody tr th {\n",
       "        vertical-align: top;\n",
       "    }\n",
       "\n",
       "    .dataframe thead th {\n",
       "        text-align: right;\n",
       "    }\n",
       "</style>\n",
       "<table border=\"1\" class=\"dataframe\">\n",
       "  <thead>\n",
       "    <tr style=\"text-align: right;\">\n",
       "      <th></th>\n",
       "      <th>GAME_DATE_EST</th>\n",
       "      <th>GAME_ID</th>\n",
       "      <th>VISITOR_TEAM_ID</th>\n",
       "      <th>FG_PCTAWAY_ROllING</th>\n",
       "      <th>FT_PCTAWAY_ROllING</th>\n",
       "      <th>FG3_PCTAWAY_ROllING</th>\n",
       "      <th>AST_away_ROllING</th>\n",
       "      <th>REB_away_ROllING</th>\n",
       "    </tr>\n",
       "  </thead>\n",
       "  <tbody>\n",
       "    <tr>\n",
       "      <th>14663</th>\n",
       "      <td>2004-11-10</td>\n",
       "      <td>20400064</td>\n",
       "      <td>1610612766</td>\n",
       "      <td>0.4440</td>\n",
       "      <td>0.7320</td>\n",
       "      <td>0.3335</td>\n",
       "      <td>22.0</td>\n",
       "      <td>41.0</td>\n",
       "    </tr>\n",
       "    <tr>\n",
       "      <th>14648</th>\n",
       "      <td>2004-11-12</td>\n",
       "      <td>20400074</td>\n",
       "      <td>1610612766</td>\n",
       "      <td>0.4220</td>\n",
       "      <td>0.6510</td>\n",
       "      <td>0.3420</td>\n",
       "      <td>23.0</td>\n",
       "      <td>42.0</td>\n",
       "    </tr>\n",
       "    <tr>\n",
       "      <th>14593</th>\n",
       "      <td>2004-11-20</td>\n",
       "      <td>20400131</td>\n",
       "      <td>1610612766</td>\n",
       "      <td>0.3825</td>\n",
       "      <td>0.5775</td>\n",
       "      <td>0.3835</td>\n",
       "      <td>18.0</td>\n",
       "      <td>42.0</td>\n",
       "    </tr>\n",
       "    <tr>\n",
       "      <th>14583</th>\n",
       "      <td>2004-11-21</td>\n",
       "      <td>20400140</td>\n",
       "      <td>1610612766</td>\n",
       "      <td>0.4155</td>\n",
       "      <td>0.6650</td>\n",
       "      <td>0.5280</td>\n",
       "      <td>21.0</td>\n",
       "      <td>44.0</td>\n",
       "    </tr>\n",
       "    <tr>\n",
       "      <th>14543</th>\n",
       "      <td>2004-11-26</td>\n",
       "      <td>20400176</td>\n",
       "      <td>1610612766</td>\n",
       "      <td>0.4280</td>\n",
       "      <td>0.7565</td>\n",
       "      <td>0.4445</td>\n",
       "      <td>24.0</td>\n",
       "      <td>43.5</td>\n",
       "    </tr>\n",
       "  </tbody>\n",
       "</table>\n",
       "</div>"
      ],
      "text/plain": [
       "      GAME_DATE_EST   GAME_ID VISITOR_TEAM_ID  FG_PCTAWAY_ROllING  \\\n",
       "14663    2004-11-10  20400064      1610612766              0.4440   \n",
       "14648    2004-11-12  20400074      1610612766              0.4220   \n",
       "14593    2004-11-20  20400131      1610612766              0.3825   \n",
       "14583    2004-11-21  20400140      1610612766              0.4155   \n",
       "14543    2004-11-26  20400176      1610612766              0.4280   \n",
       "\n",
       "       FT_PCTAWAY_ROllING  FG3_PCTAWAY_ROllING  AST_away_ROllING  \\\n",
       "14663              0.7320               0.3335              22.0   \n",
       "14648              0.6510               0.3420              23.0   \n",
       "14593              0.5775               0.3835              18.0   \n",
       "14583              0.6650               0.5280              21.0   \n",
       "14543              0.7565               0.4445              24.0   \n",
       "\n",
       "       REB_away_ROllING  \n",
       "14663              41.0  \n",
       "14648              42.0  \n",
       "14593              42.0  \n",
       "14583              44.0  \n",
       "14543              43.5  "
      ]
     },
     "execution_count": 15,
     "metadata": {},
     "output_type": "execute_result"
    }
   ],
   "source": [
    "away_var = {'GAME_DATE_EST': [], \n",
    "           'GAME_ID': [],\n",
    "           'VISITOR_TEAM_ID': [],\n",
    "           'FG_PCT_away': [],\n",
    "           'FT_PCT_away': [],\n",
    "           'FG3_PCT_away': [], 'AST_away': [], 'REB_away': []\n",
    "           }\n",
    "\n",
    "\n",
    "away_data = pd.DataFrame(away_var)\n",
    "\n",
    "for team in games['VISITOR_TEAM_ID'].unique():\n",
    "    \n",
    "\n",
    "    temp_df = games.loc[games['VISITOR_TEAM_ID']==team,:].sort_values(by='GAME_DATE_EST')\n",
    "\n",
    "    temp_df = temp_df[['GAME_DATE_EST', 'GAME_ID', 'VISITOR_TEAM_ID', 'FG_PCT_away', 'FT_PCT_away', 'FG3_PCT_away', 'AST_away', 'REB_away']]\n",
    "    \n",
    "#     print(bulls.rolling(2).mean())\n",
    "    temp_df['FG_PCTAWAY_ROllING']=temp_df['FG_PCT_away'].rolling(2).mean()\n",
    "    temp_df['FT_PCTAWAY_ROllING']=temp_df['FT_PCT_away'].rolling(2).mean()\n",
    "    temp_df['FG3_PCTAWAY_ROllING']=temp_df['FG3_PCT_away'].rolling(2).mean()\n",
    "    temp_df['AST_away_ROllING']=temp_df['AST_away'].rolling(2).mean()\n",
    "    temp_df['REB_away_ROllING']=temp_df['REB_away'].rolling(2).mean()\n",
    "#     print(bulls.head())\n",
    "    away_data = away_data.append(temp_df)\n",
    "\n",
    "away_data = away_data.dropna()\n",
    "away_data = away_data.drop(columns = ['FG_PCT_away', 'FT_PCT_away', 'FG3_PCT_away', 'AST_away', 'REB_away'])\n",
    "away_data.head()"
   ]
  },
  {
   "cell_type": "code",
   "execution_count": 17,
   "metadata": {},
   "outputs": [],
   "source": [
    "clean_data = pd.merge(home_data, away_data, how=\"inner\", on=[\"GAME_DATE_EST\", \"GAME_ID\"])"
   ]
  },
  {
   "cell_type": "code",
   "execution_count": 23,
   "metadata": {},
   "outputs": [
    {
     "data": {
      "text/html": [
       "<div>\n",
       "<style scoped>\n",
       "    .dataframe tbody tr th:only-of-type {\n",
       "        vertical-align: middle;\n",
       "    }\n",
       "\n",
       "    .dataframe tbody tr th {\n",
       "        vertical-align: top;\n",
       "    }\n",
       "\n",
       "    .dataframe thead th {\n",
       "        text-align: right;\n",
       "    }\n",
       "</style>\n",
       "<table border=\"1\" class=\"dataframe\">\n",
       "  <thead>\n",
       "    <tr style=\"text-align: right;\">\n",
       "      <th></th>\n",
       "      <th>GAME_ID</th>\n",
       "      <th>HOME_TEAM_ID</th>\n",
       "      <th>HOME_TEAM_WINS</th>\n",
       "      <th>FG_PCTHOME_ROllING</th>\n",
       "      <th>FT_PCTHOME_ROllING</th>\n",
       "      <th>FG3_PCTHOME_ROllING</th>\n",
       "      <th>AST_home_ROllING</th>\n",
       "      <th>REB_home_ROllING</th>\n",
       "      <th>VISITOR_TEAM_ID</th>\n",
       "      <th>FG_PCTAWAY_ROllING</th>\n",
       "      <th>FT_PCTAWAY_ROllING</th>\n",
       "      <th>FG3_PCTAWAY_ROllING</th>\n",
       "      <th>AST_away_ROllING</th>\n",
       "      <th>REB_away_ROllING</th>\n",
       "    </tr>\n",
       "  </thead>\n",
       "  <tbody>\n",
       "    <tr>\n",
       "      <th>0</th>\n",
       "      <td>20300028</td>\n",
       "      <td>1610612753</td>\n",
       "      <td>0.0</td>\n",
       "      <td>0.400</td>\n",
       "      <td>0.8050</td>\n",
       "      <td>0.3665</td>\n",
       "      <td>17.0</td>\n",
       "      <td>34.5</td>\n",
       "      <td>1610612765</td>\n",
       "      <td>0.4260</td>\n",
       "      <td>0.8105</td>\n",
       "      <td>0.3930</td>\n",
       "      <td>16.0</td>\n",
       "      <td>45.0</td>\n",
       "    </tr>\n",
       "    <tr>\n",
       "      <th>1</th>\n",
       "      <td>20300041</td>\n",
       "      <td>1610612753</td>\n",
       "      <td>0.0</td>\n",
       "      <td>0.320</td>\n",
       "      <td>0.7885</td>\n",
       "      <td>0.3335</td>\n",
       "      <td>14.5</td>\n",
       "      <td>40.0</td>\n",
       "      <td>1610612752</td>\n",
       "      <td>0.4055</td>\n",
       "      <td>0.9395</td>\n",
       "      <td>0.0800</td>\n",
       "      <td>21.5</td>\n",
       "      <td>43.0</td>\n",
       "    </tr>\n",
       "    <tr>\n",
       "      <th>2</th>\n",
       "      <td>20300054</td>\n",
       "      <td>1610612753</td>\n",
       "      <td>0.0</td>\n",
       "      <td>0.355</td>\n",
       "      <td>0.7575</td>\n",
       "      <td>0.3250</td>\n",
       "      <td>17.0</td>\n",
       "      <td>41.5</td>\n",
       "      <td>1610612741</td>\n",
       "      <td>0.4110</td>\n",
       "      <td>0.8350</td>\n",
       "      <td>0.3525</td>\n",
       "      <td>17.5</td>\n",
       "      <td>39.0</td>\n",
       "    </tr>\n",
       "    <tr>\n",
       "      <th>3</th>\n",
       "      <td>20300069</td>\n",
       "      <td>1610612753</td>\n",
       "      <td>0.0</td>\n",
       "      <td>0.424</td>\n",
       "      <td>0.6190</td>\n",
       "      <td>0.3470</td>\n",
       "      <td>19.0</td>\n",
       "      <td>35.0</td>\n",
       "      <td>1610612750</td>\n",
       "      <td>0.4500</td>\n",
       "      <td>0.7775</td>\n",
       "      <td>0.4645</td>\n",
       "      <td>22.0</td>\n",
       "      <td>41.5</td>\n",
       "    </tr>\n",
       "    <tr>\n",
       "      <th>4</th>\n",
       "      <td>20300105</td>\n",
       "      <td>1610612753</td>\n",
       "      <td>0.0</td>\n",
       "      <td>0.420</td>\n",
       "      <td>0.6025</td>\n",
       "      <td>0.2720</td>\n",
       "      <td>18.5</td>\n",
       "      <td>40.5</td>\n",
       "      <td>1610612763</td>\n",
       "      <td>0.4400</td>\n",
       "      <td>0.7560</td>\n",
       "      <td>0.4190</td>\n",
       "      <td>20.0</td>\n",
       "      <td>37.0</td>\n",
       "    </tr>\n",
       "  </tbody>\n",
       "</table>\n",
       "</div>"
      ],
      "text/plain": [
       "    GAME_ID HOME_TEAM_ID  HOME_TEAM_WINS  FG_PCTHOME_ROllING  \\\n",
       "0  20300028   1610612753             0.0               0.400   \n",
       "1  20300041   1610612753             0.0               0.320   \n",
       "2  20300054   1610612753             0.0               0.355   \n",
       "3  20300069   1610612753             0.0               0.424   \n",
       "4  20300105   1610612753             0.0               0.420   \n",
       "\n",
       "   FT_PCTHOME_ROllING  FG3_PCTHOME_ROllING  AST_home_ROllING  \\\n",
       "0              0.8050               0.3665              17.0   \n",
       "1              0.7885               0.3335              14.5   \n",
       "2              0.7575               0.3250              17.0   \n",
       "3              0.6190               0.3470              19.0   \n",
       "4              0.6025               0.2720              18.5   \n",
       "\n",
       "   REB_home_ROllING VISITOR_TEAM_ID  FG_PCTAWAY_ROllING  FT_PCTAWAY_ROllING  \\\n",
       "0              34.5      1610612765              0.4260              0.8105   \n",
       "1              40.0      1610612752              0.4055              0.9395   \n",
       "2              41.5      1610612741              0.4110              0.8350   \n",
       "3              35.0      1610612750              0.4500              0.7775   \n",
       "4              40.5      1610612763              0.4400              0.7560   \n",
       "\n",
       "   FG3_PCTAWAY_ROllING  AST_away_ROllING  REB_away_ROllING  \n",
       "0               0.3930              16.0              45.0  \n",
       "1               0.0800              21.5              43.0  \n",
       "2               0.3525              17.5              39.0  \n",
       "3               0.4645              22.0              41.5  \n",
       "4               0.4190              20.0              37.0  "
      ]
     },
     "execution_count": 23,
     "metadata": {},
     "output_type": "execute_result"
    }
   ],
   "source": [
    "clean_data = clean_data.drop(columns = [\"GAME_DATE_EST\"])\n",
    "clean_data.head()"
   ]
  },
  {
   "cell_type": "code",
   "execution_count": null,
   "metadata": {},
   "outputs": [],
   "source": [
    "# Logistical Regression"
   ]
  },
  {
   "cell_type": "code",
   "execution_count": 24,
   "metadata": {},
   "outputs": [
    {
     "name": "stdout",
     "output_type": "stream",
     "text": [
      "(23380, 13) (23380, 1)\n"
     ]
    }
   ],
   "source": [
    "# Assign X (data) and y (target)\n",
    "X = clean_data.drop(\"HOME_TEAM_WINS\", axis=1)\n",
    "y = clean_data[\"HOME_TEAM_WINS\"].values.reshape(-1, 1)\n",
    "print(X.shape, y.shape)"
   ]
  },
  {
   "cell_type": "code",
   "execution_count": 25,
   "metadata": {},
   "outputs": [
    {
     "data": {
      "text/html": [
       "<div>\n",
       "<style scoped>\n",
       "    .dataframe tbody tr th:only-of-type {\n",
       "        vertical-align: middle;\n",
       "    }\n",
       "\n",
       "    .dataframe tbody tr th {\n",
       "        vertical-align: top;\n",
       "    }\n",
       "\n",
       "    .dataframe thead th {\n",
       "        text-align: right;\n",
       "    }\n",
       "</style>\n",
       "<table border=\"1\" class=\"dataframe\">\n",
       "  <thead>\n",
       "    <tr style=\"text-align: right;\">\n",
       "      <th></th>\n",
       "      <th>GAME_ID</th>\n",
       "      <th>HOME_TEAM_ID</th>\n",
       "      <th>FG_PCTHOME_ROllING</th>\n",
       "      <th>FT_PCTHOME_ROllING</th>\n",
       "      <th>FG3_PCTHOME_ROllING</th>\n",
       "      <th>AST_home_ROllING</th>\n",
       "      <th>REB_home_ROllING</th>\n",
       "      <th>VISITOR_TEAM_ID</th>\n",
       "      <th>FG_PCTAWAY_ROllING</th>\n",
       "      <th>FT_PCTAWAY_ROllING</th>\n",
       "      <th>FG3_PCTAWAY_ROllING</th>\n",
       "      <th>AST_away_ROllING</th>\n",
       "      <th>REB_away_ROllING</th>\n",
       "    </tr>\n",
       "  </thead>\n",
       "  <tbody>\n",
       "    <tr>\n",
       "      <th>17038</th>\n",
       "      <td>20301150</td>\n",
       "      <td>1610612737</td>\n",
       "      <td>0.4565</td>\n",
       "      <td>0.8425</td>\n",
       "      <td>0.3185</td>\n",
       "      <td>22.0</td>\n",
       "      <td>44.0</td>\n",
       "      <td>1610612738</td>\n",
       "      <td>0.4035</td>\n",
       "      <td>0.6395</td>\n",
       "      <td>0.3250</td>\n",
       "      <td>17.0</td>\n",
       "      <td>40.0</td>\n",
       "    </tr>\n",
       "    <tr>\n",
       "      <th>8299</th>\n",
       "      <td>21500236</td>\n",
       "      <td>1610612756</td>\n",
       "      <td>0.4735</td>\n",
       "      <td>0.7480</td>\n",
       "      <td>0.3850</td>\n",
       "      <td>23.0</td>\n",
       "      <td>37.0</td>\n",
       "      <td>1610612744</td>\n",
       "      <td>0.5480</td>\n",
       "      <td>0.6845</td>\n",
       "      <td>0.5480</td>\n",
       "      <td>33.5</td>\n",
       "      <td>49.5</td>\n",
       "    </tr>\n",
       "    <tr>\n",
       "      <th>20996</th>\n",
       "      <td>20300346</td>\n",
       "      <td>1610612757</td>\n",
       "      <td>0.5115</td>\n",
       "      <td>0.6465</td>\n",
       "      <td>0.3910</td>\n",
       "      <td>30.5</td>\n",
       "      <td>40.5</td>\n",
       "      <td>1610612749</td>\n",
       "      <td>0.5125</td>\n",
       "      <td>0.7315</td>\n",
       "      <td>0.3775</td>\n",
       "      <td>28.0</td>\n",
       "      <td>39.5</td>\n",
       "    </tr>\n",
       "    <tr>\n",
       "      <th>11193</th>\n",
       "      <td>21100065</td>\n",
       "      <td>1610612746</td>\n",
       "      <td>0.4965</td>\n",
       "      <td>0.6125</td>\n",
       "      <td>0.3585</td>\n",
       "      <td>25.5</td>\n",
       "      <td>34.5</td>\n",
       "      <td>1610612757</td>\n",
       "      <td>0.3885</td>\n",
       "      <td>0.8155</td>\n",
       "      <td>0.2925</td>\n",
       "      <td>20.5</td>\n",
       "      <td>43.0</td>\n",
       "    </tr>\n",
       "    <tr>\n",
       "      <th>19712</th>\n",
       "      <td>41000301</td>\n",
       "      <td>1610612741</td>\n",
       "      <td>0.4615</td>\n",
       "      <td>0.8000</td>\n",
       "      <td>0.3810</td>\n",
       "      <td>22.0</td>\n",
       "      <td>41.0</td>\n",
       "      <td>1610612748</td>\n",
       "      <td>0.4570</td>\n",
       "      <td>0.9465</td>\n",
       "      <td>0.3030</td>\n",
       "      <td>10.5</td>\n",
       "      <td>39.0</td>\n",
       "    </tr>\n",
       "  </tbody>\n",
       "</table>\n",
       "</div>"
      ],
      "text/plain": [
       "        GAME_ID HOME_TEAM_ID  FG_PCTHOME_ROllING  FT_PCTHOME_ROllING  \\\n",
       "17038  20301150   1610612737              0.4565              0.8425   \n",
       "8299   21500236   1610612756              0.4735              0.7480   \n",
       "20996  20300346   1610612757              0.5115              0.6465   \n",
       "11193  21100065   1610612746              0.4965              0.6125   \n",
       "19712  41000301   1610612741              0.4615              0.8000   \n",
       "\n",
       "       FG3_PCTHOME_ROllING  AST_home_ROllING  REB_home_ROllING  \\\n",
       "17038               0.3185              22.0              44.0   \n",
       "8299                0.3850              23.0              37.0   \n",
       "20996               0.3910              30.5              40.5   \n",
       "11193               0.3585              25.5              34.5   \n",
       "19712               0.3810              22.0              41.0   \n",
       "\n",
       "      VISITOR_TEAM_ID  FG_PCTAWAY_ROllING  FT_PCTAWAY_ROllING  \\\n",
       "17038      1610612738              0.4035              0.6395   \n",
       "8299       1610612744              0.5480              0.6845   \n",
       "20996      1610612749              0.5125              0.7315   \n",
       "11193      1610612757              0.3885              0.8155   \n",
       "19712      1610612748              0.4570              0.9465   \n",
       "\n",
       "       FG3_PCTAWAY_ROllING  AST_away_ROllING  REB_away_ROllING  \n",
       "17038               0.3250              17.0              40.0  \n",
       "8299                0.5480              33.5              49.5  \n",
       "20996               0.3775              28.0              39.5  \n",
       "11193               0.2925              20.5              43.0  \n",
       "19712               0.3030              10.5              39.0  "
      ]
     },
     "execution_count": 25,
     "metadata": {},
     "output_type": "execute_result"
    }
   ],
   "source": [
    "from sklearn.model_selection import train_test_split\n",
    "\n",
    "X_train, X_test, y_train, y_test = train_test_split(X, y, random_state=42)\n",
    "\n",
    "\n",
    "X_train.head()"
   ]
  },
  {
   "cell_type": "code",
   "execution_count": 26,
   "metadata": {},
   "outputs": [],
   "source": [
    "# Create the scalers using only the training data!\n",
    "from sklearn.preprocessing import StandardScaler\n",
    "X_scaler = StandardScaler().fit(X_train)"
   ]
  },
  {
   "cell_type": "code",
   "execution_count": 27,
   "metadata": {},
   "outputs": [],
   "source": [
    "X_train_scaled = X_scaler.transform(X_train)\n",
    "X_test_scaled = X_scaler.transform(X_test)"
   ]
  },
  {
   "cell_type": "code",
   "execution_count": 28,
   "metadata": {},
   "outputs": [
    {
     "data": {
      "text/plain": [
       "LogisticRegression()"
      ]
     },
     "execution_count": 28,
     "metadata": {},
     "output_type": "execute_result"
    }
   ],
   "source": [
    "# create your model\n",
    "from sklearn.linear_model import LogisticRegression\n",
    "classifier = LogisticRegression()\n",
    "classifier"
   ]
  },
  {
   "cell_type": "code",
   "execution_count": 29,
   "metadata": {},
   "outputs": [
    {
     "name": "stderr",
     "output_type": "stream",
     "text": [
      "C:\\Users\\sjrya\\anaconda3\\envs\\PythonData\\lib\\site-packages\\sklearn\\utils\\validation.py:72: DataConversionWarning: A column-vector y was passed when a 1d array was expected. Please change the shape of y to (n_samples, ), for example using ravel().\n",
      "  return f(**kwargs)\n"
     ]
    },
    {
     "data": {
      "text/plain": [
       "LogisticRegression()"
      ]
     },
     "execution_count": 29,
     "metadata": {},
     "output_type": "execute_result"
    }
   ],
   "source": [
    "# Fit (train) or model using the training data\n",
    "classifier.fit(X_train_scaled, y_train)"
   ]
  },
  {
   "cell_type": "code",
   "execution_count": 30,
   "metadata": {},
   "outputs": [
    {
     "name": "stdout",
     "output_type": "stream",
     "text": [
      "Training Data Score: 0.7583689763330482\n",
      "Testing Data Score: 0.7563729683490162\n"
     ]
    }
   ],
   "source": [
    "# Validate the model using the .score() method\n",
    "print(f\"Training Data Score: {classifier.score(X_train_scaled, y_train)}\")\n",
    "print(f\"Testing Data Score: {classifier.score(X_test_scaled, y_test)}\")"
   ]
  },
  {
   "cell_type": "code",
   "execution_count": null,
   "metadata": {},
   "outputs": [],
   "source": [
    "# inputs match up - home team / away team \n",
    "# query latest stats from api \n",
    "# latest rolling averages calculation\n",
    "# retrain model \n",
    "# input user input - output hometeam wins"
   ]
  },
  {
   "cell_type": "code",
   "execution_count": null,
   "metadata": {},
   "outputs": [],
   "source": [
    "# XGBOOST"
   ]
  },
  {
   "cell_type": "code",
   "execution_count": 31,
   "metadata": {},
   "outputs": [],
   "source": [
    "# create your model\n",
    "model = XGBClassifier()"
   ]
  },
  {
   "cell_type": "code",
   "execution_count": 32,
   "metadata": {},
   "outputs": [],
   "source": [
    "y_pred= classifier.predict(X_test_scaled)"
   ]
  },
  {
   "cell_type": "code",
   "execution_count": 33,
   "metadata": {},
   "outputs": [
    {
     "data": {
      "text/plain": [
       "array([1., 1., 1., ..., 1., 1., 0.])"
      ]
     },
     "execution_count": 33,
     "metadata": {},
     "output_type": "execute_result"
    }
   ],
   "source": [
    "y_pred"
   ]
  },
  {
   "cell_type": "code",
   "execution_count": 34,
   "metadata": {},
   "outputs": [
    {
     "data": {
      "text/plain": [
       "array([[1.],\n",
       "       [0.],\n",
       "       [1.],\n",
       "       ...,\n",
       "       [0.],\n",
       "       [1.],\n",
       "       [1.]])"
      ]
     },
     "execution_count": 34,
     "metadata": {},
     "output_type": "execute_result"
    }
   ],
   "source": [
    "y_test"
   ]
  },
  {
   "cell_type": "code",
   "execution_count": 35,
   "metadata": {},
   "outputs": [
    {
     "data": {
      "text/plain": [
       "3067.663473053892"
      ]
     },
     "execution_count": 35,
     "metadata": {},
     "output_type": "execute_result"
    }
   ],
   "source": [
    "(y_pred == y_test).sum()/len(y_pred)"
   ]
  },
  {
   "cell_type": "code",
   "execution_count": 36,
   "metadata": {},
   "outputs": [],
   "source": [
    "# TREE"
   ]
  },
  {
   "cell_type": "code",
   "execution_count": 37,
   "metadata": {},
   "outputs": [
    {
     "name": "stderr",
     "output_type": "stream",
     "text": [
      "C:\\Users\\sjrya\\anaconda3\\envs\\PythonData\\lib\\site-packages\\xgboost\\sklearn.py:888: UserWarning: The use of label encoder in XGBClassifier is deprecated and will be removed in a future release. To remove this warning, do the following: 1) Pass option use_label_encoder=False when constructing XGBClassifier object; and 2) Encode your labels (y) as integers starting with 0, i.e. 0, 1, 2, ..., [num_class - 1].\n",
      "  warnings.warn(label_encoder_deprecation_msg, UserWarning)\n",
      "C:\\Users\\sjrya\\anaconda3\\envs\\PythonData\\lib\\site-packages\\sklearn\\utils\\validation.py:72: DataConversionWarning: A column-vector y was passed when a 1d array was expected. Please change the shape of y to (n_samples, ), for example using ravel().\n",
      "  return f(**kwargs)\n"
     ]
    },
    {
     "name": "stdout",
     "output_type": "stream",
     "text": [
      "[11:43:01] WARNING: C:/Users/Administrator/workspace/xgboost-win64_release_1.3.0/src/learner.cc:1061: Starting in XGBoost 1.3.0, the default evaluation metric used with the objective 'binary:logistic' was changed from 'error' to 'logloss'. Explicitly set eval_metric if you'd like to restore the old behavior.\n"
     ]
    },
    {
     "data": {
      "text/plain": [
       "XGBClassifier(base_score=0.5, booster='gbtree', colsample_bylevel=1,\n",
       "              colsample_bynode=1, colsample_bytree=1, gamma=0, gpu_id=-1,\n",
       "              importance_type='gain', interaction_constraints='',\n",
       "              learning_rate=0.300000012, max_delta_step=0, max_depth=6,\n",
       "              min_child_weight=1, missing=nan, monotone_constraints='()',\n",
       "              n_estimators=100, n_jobs=8, num_parallel_tree=1, random_state=0,\n",
       "              reg_alpha=0, reg_lambda=1, scale_pos_weight=1, subsample=1,\n",
       "              tree_method='exact', validate_parameters=1, verbosity=None)"
      ]
     },
     "execution_count": 37,
     "metadata": {},
     "output_type": "execute_result"
    }
   ],
   "source": [
    "# Fit (train) using the training data\n",
    "model.fit(X_train_scaled, y_train)"
   ]
  },
  {
   "cell_type": "code",
   "execution_count": 38,
   "metadata": {
    "scrolled": true
   },
   "outputs": [
    {
     "name": "stdout",
     "output_type": "stream",
     "text": [
      "0.7421727972626176\n"
     ]
    }
   ],
   "source": [
    "# Validate the model using the test data\n",
    "predictions = model.predict(X_test_scaled)\n",
    "\n",
    "accuracy = accuracy_score(y_test, predictions)\n",
    "print(accuracy)"
   ]
  },
  {
   "cell_type": "code",
   "execution_count": 39,
   "metadata": {},
   "outputs": [],
   "source": [
    "target = clean_data[\"HOME_TEAM_WINS\"]\n",
    "target_names = [\"loss\", \"win\"]\n"
   ]
  },
  {
   "cell_type": "code",
   "execution_count": 40,
   "metadata": {},
   "outputs": [
    {
     "data": {
      "text/html": [
       "<div>\n",
       "<style scoped>\n",
       "    .dataframe tbody tr th:only-of-type {\n",
       "        vertical-align: middle;\n",
       "    }\n",
       "\n",
       "    .dataframe tbody tr th {\n",
       "        vertical-align: top;\n",
       "    }\n",
       "\n",
       "    .dataframe thead th {\n",
       "        text-align: right;\n",
       "    }\n",
       "</style>\n",
       "<table border=\"1\" class=\"dataframe\">\n",
       "  <thead>\n",
       "    <tr style=\"text-align: right;\">\n",
       "      <th></th>\n",
       "      <th>GAME_ID</th>\n",
       "      <th>HOME_TEAM_ID</th>\n",
       "      <th>FG_PCTHOME_ROllING</th>\n",
       "      <th>FT_PCTHOME_ROllING</th>\n",
       "      <th>FG3_PCTHOME_ROllING</th>\n",
       "      <th>AST_home_ROllING</th>\n",
       "      <th>REB_home_ROllING</th>\n",
       "      <th>VISITOR_TEAM_ID</th>\n",
       "      <th>FG_PCTAWAY_ROllING</th>\n",
       "      <th>FT_PCTAWAY_ROllING</th>\n",
       "      <th>FG3_PCTAWAY_ROllING</th>\n",
       "      <th>AST_away_ROllING</th>\n",
       "      <th>REB_away_ROllING</th>\n",
       "    </tr>\n",
       "  </thead>\n",
       "  <tbody>\n",
       "    <tr>\n",
       "      <th>0</th>\n",
       "      <td>20300028</td>\n",
       "      <td>1610612753</td>\n",
       "      <td>0.400</td>\n",
       "      <td>0.8050</td>\n",
       "      <td>0.3665</td>\n",
       "      <td>17.0</td>\n",
       "      <td>34.5</td>\n",
       "      <td>1610612765</td>\n",
       "      <td>0.4260</td>\n",
       "      <td>0.8105</td>\n",
       "      <td>0.3930</td>\n",
       "      <td>16.0</td>\n",
       "      <td>45.0</td>\n",
       "    </tr>\n",
       "    <tr>\n",
       "      <th>1</th>\n",
       "      <td>20300041</td>\n",
       "      <td>1610612753</td>\n",
       "      <td>0.320</td>\n",
       "      <td>0.7885</td>\n",
       "      <td>0.3335</td>\n",
       "      <td>14.5</td>\n",
       "      <td>40.0</td>\n",
       "      <td>1610612752</td>\n",
       "      <td>0.4055</td>\n",
       "      <td>0.9395</td>\n",
       "      <td>0.0800</td>\n",
       "      <td>21.5</td>\n",
       "      <td>43.0</td>\n",
       "    </tr>\n",
       "    <tr>\n",
       "      <th>2</th>\n",
       "      <td>20300054</td>\n",
       "      <td>1610612753</td>\n",
       "      <td>0.355</td>\n",
       "      <td>0.7575</td>\n",
       "      <td>0.3250</td>\n",
       "      <td>17.0</td>\n",
       "      <td>41.5</td>\n",
       "      <td>1610612741</td>\n",
       "      <td>0.4110</td>\n",
       "      <td>0.8350</td>\n",
       "      <td>0.3525</td>\n",
       "      <td>17.5</td>\n",
       "      <td>39.0</td>\n",
       "    </tr>\n",
       "    <tr>\n",
       "      <th>3</th>\n",
       "      <td>20300069</td>\n",
       "      <td>1610612753</td>\n",
       "      <td>0.424</td>\n",
       "      <td>0.6190</td>\n",
       "      <td>0.3470</td>\n",
       "      <td>19.0</td>\n",
       "      <td>35.0</td>\n",
       "      <td>1610612750</td>\n",
       "      <td>0.4500</td>\n",
       "      <td>0.7775</td>\n",
       "      <td>0.4645</td>\n",
       "      <td>22.0</td>\n",
       "      <td>41.5</td>\n",
       "    </tr>\n",
       "    <tr>\n",
       "      <th>4</th>\n",
       "      <td>20300105</td>\n",
       "      <td>1610612753</td>\n",
       "      <td>0.420</td>\n",
       "      <td>0.6025</td>\n",
       "      <td>0.2720</td>\n",
       "      <td>18.5</td>\n",
       "      <td>40.5</td>\n",
       "      <td>1610612763</td>\n",
       "      <td>0.4400</td>\n",
       "      <td>0.7560</td>\n",
       "      <td>0.4190</td>\n",
       "      <td>20.0</td>\n",
       "      <td>37.0</td>\n",
       "    </tr>\n",
       "  </tbody>\n",
       "</table>\n",
       "</div>"
      ],
      "text/plain": [
       "    GAME_ID HOME_TEAM_ID  FG_PCTHOME_ROllING  FT_PCTHOME_ROllING  \\\n",
       "0  20300028   1610612753               0.400              0.8050   \n",
       "1  20300041   1610612753               0.320              0.7885   \n",
       "2  20300054   1610612753               0.355              0.7575   \n",
       "3  20300069   1610612753               0.424              0.6190   \n",
       "4  20300105   1610612753               0.420              0.6025   \n",
       "\n",
       "   FG3_PCTHOME_ROllING  AST_home_ROllING  REB_home_ROllING VISITOR_TEAM_ID  \\\n",
       "0               0.3665              17.0              34.5      1610612765   \n",
       "1               0.3335              14.5              40.0      1610612752   \n",
       "2               0.3250              17.0              41.5      1610612741   \n",
       "3               0.3470              19.0              35.0      1610612750   \n",
       "4               0.2720              18.5              40.5      1610612763   \n",
       "\n",
       "   FG_PCTAWAY_ROllING  FT_PCTAWAY_ROllING  FG3_PCTAWAY_ROllING  \\\n",
       "0              0.4260              0.8105               0.3930   \n",
       "1              0.4055              0.9395               0.0800   \n",
       "2              0.4110              0.8350               0.3525   \n",
       "3              0.4500              0.7775               0.4645   \n",
       "4              0.4400              0.7560               0.4190   \n",
       "\n",
       "   AST_away_ROllING  REB_away_ROllING  \n",
       "0              16.0              45.0  \n",
       "1              21.5              43.0  \n",
       "2              17.5              39.0  \n",
       "3              22.0              41.5  \n",
       "4              20.0              37.0  "
      ]
     },
     "execution_count": 40,
     "metadata": {},
     "output_type": "execute_result"
    }
   ],
   "source": [
    "data_1 = clean_data.drop(\"HOME_TEAM_WINS\", axis=1)\n",
    "feature_names = data_1.columns\n",
    "data_1.head()"
   ]
  },
  {
   "cell_type": "code",
   "execution_count": 41,
   "metadata": {},
   "outputs": [],
   "source": [
    "from sklearn.model_selection import train_test_split\n",
    "X_train, X_test, y_train, y_test = train_test_split(data_1, target, random_state=42)"
   ]
  },
  {
   "cell_type": "code",
   "execution_count": 42,
   "metadata": {},
   "outputs": [
    {
     "data": {
      "text/plain": [
       "0.6660393498716852"
      ]
     },
     "execution_count": 42,
     "metadata": {},
     "output_type": "execute_result"
    }
   ],
   "source": [
    "clf = tree.DecisionTreeClassifier()\n",
    "clf = clf.fit(X_train, y_train)\n",
    "clf.score(X_test, y_test)"
   ]
  },
  {
   "cell_type": "code",
   "execution_count": 43,
   "metadata": {},
   "outputs": [
    {
     "data": {
      "text/plain": [
       "0.7486740804106073"
      ]
     },
     "execution_count": 43,
     "metadata": {},
     "output_type": "execute_result"
    }
   ],
   "source": [
    "from sklearn.ensemble import RandomForestClassifier\n",
    "rf = RandomForestClassifier(n_estimators=200)\n",
    "rf = rf.fit(X_train, y_train)\n",
    "rf.score(X_test, y_test)"
   ]
  },
  {
   "cell_type": "code",
   "execution_count": 44,
   "metadata": {},
   "outputs": [
    {
     "data": {
      "text/plain": [
       "[(0.15004842833650486, 'FG_PCTAWAY_ROllING'),\n",
       " (0.14684765874354705, 'FG_PCTHOME_ROllING'),\n",
       " (0.09241340784363976, 'FG3_PCTHOME_ROllING'),\n",
       " (0.08719979721976306, 'FG3_PCTAWAY_ROllING'),\n",
       " (0.08327874076833544, 'REB_home_ROllING'),\n",
       " (0.08309248934295467, 'REB_away_ROllING'),\n",
       " (0.07436488999006935, 'FT_PCTHOME_ROllING'),\n",
       " (0.0726321029295737, 'FT_PCTAWAY_ROllING'),\n",
       " (0.07084062533885314, 'AST_home_ROllING'),\n",
       " (0.07029811150413218, 'GAME_ID'),\n",
       " (0.06898374798262683, 'AST_away_ROllING'),\n",
       " (0.0, 'VISITOR_TEAM_ID'),\n",
       " (0.0, 'HOME_TEAM_ID')]"
      ]
     },
     "execution_count": 44,
     "metadata": {},
     "output_type": "execute_result"
    }
   ],
   "source": [
    "sorted(zip(rf.feature_importances_, feature_names), reverse=True)"
   ]
  },
  {
   "cell_type": "code",
   "execution_count": null,
   "metadata": {},
   "outputs": [],
   "source": []
  },
  {
   "cell_type": "code",
   "execution_count": null,
   "metadata": {},
   "outputs": [],
   "source": []
  },
  {
   "cell_type": "code",
   "execution_count": null,
   "metadata": {},
   "outputs": [],
   "source": []
  },
  {
   "cell_type": "code",
   "execution_count": null,
   "metadata": {},
   "outputs": [],
   "source": []
  },
  {
   "cell_type": "code",
   "execution_count": null,
   "metadata": {},
   "outputs": [],
   "source": []
  },
  {
   "cell_type": "code",
   "execution_count": null,
   "metadata": {},
   "outputs": [],
   "source": []
  },
  {
   "cell_type": "code",
   "execution_count": null,
   "metadata": {},
   "outputs": [],
   "source": []
  },
  {
   "cell_type": "code",
   "execution_count": 4,
   "metadata": {},
   "outputs": [
    {
     "data": {
      "text/html": [
       "<div>\n",
       "<style scoped>\n",
       "    .dataframe tbody tr th:only-of-type {\n",
       "        vertical-align: middle;\n",
       "    }\n",
       "\n",
       "    .dataframe tbody tr th {\n",
       "        vertical-align: top;\n",
       "    }\n",
       "\n",
       "    .dataframe thead th {\n",
       "        text-align: right;\n",
       "    }\n",
       "</style>\n",
       "<table border=\"1\" class=\"dataframe\">\n",
       "  <thead>\n",
       "    <tr style=\"text-align: right;\">\n",
       "      <th></th>\n",
       "      <th>TEAM_ID</th>\n",
       "      <th>LEAGUE_ID</th>\n",
       "      <th>SEASON_ID</th>\n",
       "      <th>STANDINGSDATE</th>\n",
       "      <th>CONFERENCE</th>\n",
       "      <th>TEAM</th>\n",
       "      <th>G</th>\n",
       "      <th>W</th>\n",
       "      <th>L</th>\n",
       "      <th>W_PCT</th>\n",
       "      <th>HOME_RECORD</th>\n",
       "      <th>ROAD_RECORD</th>\n",
       "      <th>RETURNTOPLAY</th>\n",
       "    </tr>\n",
       "  </thead>\n",
       "  <tbody>\n",
       "    <tr>\n",
       "      <th>0</th>\n",
       "      <td>1610612747</td>\n",
       "      <td>0</td>\n",
       "      <td>12020</td>\n",
       "      <td>2020-12-21</td>\n",
       "      <td>West</td>\n",
       "      <td>L.A. Lakers</td>\n",
       "      <td>4</td>\n",
       "      <td>4</td>\n",
       "      <td>0</td>\n",
       "      <td>1.00</td>\n",
       "      <td>2-0</td>\n",
       "      <td>2-0</td>\n",
       "      <td>NaN</td>\n",
       "    </tr>\n",
       "    <tr>\n",
       "      <th>1</th>\n",
       "      <td>1610612762</td>\n",
       "      <td>0</td>\n",
       "      <td>12020</td>\n",
       "      <td>2020-12-21</td>\n",
       "      <td>West</td>\n",
       "      <td>Utah</td>\n",
       "      <td>3</td>\n",
       "      <td>3</td>\n",
       "      <td>0</td>\n",
       "      <td>1.00</td>\n",
       "      <td>2-0</td>\n",
       "      <td>1-0</td>\n",
       "      <td>NaN</td>\n",
       "    </tr>\n",
       "    <tr>\n",
       "      <th>2</th>\n",
       "      <td>1610612740</td>\n",
       "      <td>0</td>\n",
       "      <td>12020</td>\n",
       "      <td>2020-12-21</td>\n",
       "      <td>West</td>\n",
       "      <td>New Orleans</td>\n",
       "      <td>2</td>\n",
       "      <td>2</td>\n",
       "      <td>0</td>\n",
       "      <td>1.00</td>\n",
       "      <td>1-0</td>\n",
       "      <td>1-0</td>\n",
       "      <td>NaN</td>\n",
       "    </tr>\n",
       "    <tr>\n",
       "      <th>3</th>\n",
       "      <td>1610612745</td>\n",
       "      <td>0</td>\n",
       "      <td>12020</td>\n",
       "      <td>2020-12-21</td>\n",
       "      <td>West</td>\n",
       "      <td>Houston</td>\n",
       "      <td>4</td>\n",
       "      <td>3</td>\n",
       "      <td>1</td>\n",
       "      <td>0.75</td>\n",
       "      <td>2-0</td>\n",
       "      <td>1-1</td>\n",
       "      <td>NaN</td>\n",
       "    </tr>\n",
       "    <tr>\n",
       "      <th>4</th>\n",
       "      <td>1610612763</td>\n",
       "      <td>0</td>\n",
       "      <td>12020</td>\n",
       "      <td>2020-12-21</td>\n",
       "      <td>West</td>\n",
       "      <td>Memphis</td>\n",
       "      <td>4</td>\n",
       "      <td>3</td>\n",
       "      <td>1</td>\n",
       "      <td>0.75</td>\n",
       "      <td>1-1</td>\n",
       "      <td>2-0</td>\n",
       "      <td>NaN</td>\n",
       "    </tr>\n",
       "  </tbody>\n",
       "</table>\n",
       "</div>"
      ],
      "text/plain": [
       "      TEAM_ID  LEAGUE_ID  SEASON_ID STANDINGSDATE CONFERENCE         TEAM  G  \\\n",
       "0  1610612747          0      12020    2020-12-21       West  L.A. Lakers  4   \n",
       "1  1610612762          0      12020    2020-12-21       West         Utah  3   \n",
       "2  1610612740          0      12020    2020-12-21       West  New Orleans  2   \n",
       "3  1610612745          0      12020    2020-12-21       West      Houston  4   \n",
       "4  1610612763          0      12020    2020-12-21       West      Memphis  4   \n",
       "\n",
       "   W  L  W_PCT HOME_RECORD ROAD_RECORD  RETURNTOPLAY  \n",
       "0  4  0   1.00         2-0         2-0           NaN  \n",
       "1  3  0   1.00         2-0         1-0           NaN  \n",
       "2  2  0   1.00         1-0         1-0           NaN  \n",
       "3  3  1   0.75         2-0         1-1           NaN  \n",
       "4  3  1   0.75         1-1         2-0           NaN  "
      ]
     },
     "execution_count": 4,
     "metadata": {},
     "output_type": "execute_result"
    }
   ],
   "source": [
    "ranking_df = pd.read_csv('Data/ranking.csv')\n",
    "ranking_df.head()"
   ]
  },
  {
   "cell_type": "code",
   "execution_count": 5,
   "metadata": {},
   "outputs": [
    {
     "data": {
      "text/plain": [
       "(23520, 21)"
      ]
     },
     "execution_count": 5,
     "metadata": {},
     "output_type": "execute_result"
    }
   ],
   "source": [
    "games.shape"
   ]
  },
  {
   "cell_type": "code",
   "execution_count": 6,
   "metadata": {},
   "outputs": [
    {
     "data": {
      "text/plain": [
       "(188383, 13)"
      ]
     },
     "execution_count": 6,
     "metadata": {},
     "output_type": "execute_result"
    }
   ],
   "source": [
    "ranking_df.shape"
   ]
  },
  {
   "cell_type": "code",
   "execution_count": 7,
   "metadata": {
    "scrolled": true
   },
   "outputs": [
    {
     "data": {
      "text/plain": [
       "['GAME_DATE_EST',\n",
       " 'GAME_ID',\n",
       " 'GAME_STATUS_TEXT',\n",
       " 'HOME_TEAM_ID',\n",
       " 'VISITOR_TEAM_ID',\n",
       " 'SEASON',\n",
       " 'TEAM_ID_home',\n",
       " 'PTS_home',\n",
       " 'FG_PCT_home',\n",
       " 'FT_PCT_home',\n",
       " 'FG3_PCT_home',\n",
       " 'AST_home',\n",
       " 'REB_home',\n",
       " 'TEAM_ID_away',\n",
       " 'PTS_away',\n",
       " 'FG_PCT_away',\n",
       " 'FT_PCT_away',\n",
       " 'FG3_PCT_away',\n",
       " 'AST_away',\n",
       " 'REB_away',\n",
       " 'HOME_TEAM_WINS',\n",
       " 'W_PCT']"
      ]
     },
     "execution_count": 7,
     "metadata": {},
     "output_type": "execute_result"
    }
   ],
   "source": [
    "gameslist= list(games.columns)\n",
    "rankinglist=[\"W_PCT\"]\n",
    "gameslist+rankinglist"
   ]
  },
  {
   "cell_type": "code",
   "execution_count": 8,
   "metadata": {},
   "outputs": [],
   "source": [
    "games = games.merge(ranking_df, left_on=[\"HOME_TEAM_ID\", \"GAME_DATE_EST\"], right_on=[\"TEAM_ID\", \"STANDINGSDATE\"])[gameslist+rankinglist]"
   ]
  },
  {
   "cell_type": "code",
   "execution_count": 9,
   "metadata": {},
   "outputs": [
    {
     "data": {
      "text/html": [
       "<div>\n",
       "<style scoped>\n",
       "    .dataframe tbody tr th:only-of-type {\n",
       "        vertical-align: middle;\n",
       "    }\n",
       "\n",
       "    .dataframe tbody tr th {\n",
       "        vertical-align: top;\n",
       "    }\n",
       "\n",
       "    .dataframe thead th {\n",
       "        text-align: right;\n",
       "    }\n",
       "</style>\n",
       "<table border=\"1\" class=\"dataframe\">\n",
       "  <thead>\n",
       "    <tr style=\"text-align: right;\">\n",
       "      <th></th>\n",
       "      <th>GAME_DATE_EST</th>\n",
       "      <th>GAME_ID</th>\n",
       "      <th>GAME_STATUS_TEXT</th>\n",
       "      <th>HOME_TEAM_ID</th>\n",
       "      <th>VISITOR_TEAM_ID</th>\n",
       "      <th>SEASON</th>\n",
       "      <th>TEAM_ID_home</th>\n",
       "      <th>PTS_home</th>\n",
       "      <th>FG_PCT_home</th>\n",
       "      <th>FT_PCT_home</th>\n",
       "      <th>...</th>\n",
       "      <th>REB_home</th>\n",
       "      <th>TEAM_ID_away</th>\n",
       "      <th>PTS_away</th>\n",
       "      <th>FG_PCT_away</th>\n",
       "      <th>FT_PCT_away</th>\n",
       "      <th>FG3_PCT_away</th>\n",
       "      <th>AST_away</th>\n",
       "      <th>REB_away</th>\n",
       "      <th>HOME_TEAM_WINS</th>\n",
       "      <th>HOME_W_PCT</th>\n",
       "    </tr>\n",
       "  </thead>\n",
       "  <tbody>\n",
       "    <tr>\n",
       "      <th>0</th>\n",
       "      <td>2020-12-19</td>\n",
       "      <td>12000047</td>\n",
       "      <td>Final</td>\n",
       "      <td>1610612753</td>\n",
       "      <td>1610612766</td>\n",
       "      <td>2020</td>\n",
       "      <td>1610612753</td>\n",
       "      <td>120.0</td>\n",
       "      <td>0.433</td>\n",
       "      <td>0.792</td>\n",
       "      <td>...</td>\n",
       "      <td>50.0</td>\n",
       "      <td>1610612766</td>\n",
       "      <td>117.0</td>\n",
       "      <td>0.444</td>\n",
       "      <td>0.864</td>\n",
       "      <td>0.439</td>\n",
       "      <td>21.0</td>\n",
       "      <td>52.0</td>\n",
       "      <td>1</td>\n",
       "      <td>0.500</td>\n",
       "    </tr>\n",
       "    <tr>\n",
       "      <th>1</th>\n",
       "      <td>2020-12-19</td>\n",
       "      <td>12000048</td>\n",
       "      <td>Final</td>\n",
       "      <td>1610612764</td>\n",
       "      <td>1610612765</td>\n",
       "      <td>2020</td>\n",
       "      <td>1610612764</td>\n",
       "      <td>99.0</td>\n",
       "      <td>0.427</td>\n",
       "      <td>0.625</td>\n",
       "      <td>...</td>\n",
       "      <td>45.0</td>\n",
       "      <td>1610612765</td>\n",
       "      <td>96.0</td>\n",
       "      <td>0.402</td>\n",
       "      <td>0.647</td>\n",
       "      <td>0.326</td>\n",
       "      <td>18.0</td>\n",
       "      <td>51.0</td>\n",
       "      <td>1</td>\n",
       "      <td>0.333</td>\n",
       "    </tr>\n",
       "    <tr>\n",
       "      <th>2</th>\n",
       "      <td>2020-12-19</td>\n",
       "      <td>12000049</td>\n",
       "      <td>Final</td>\n",
       "      <td>1610612763</td>\n",
       "      <td>1610612737</td>\n",
       "      <td>2020</td>\n",
       "      <td>1610612763</td>\n",
       "      <td>116.0</td>\n",
       "      <td>0.400</td>\n",
       "      <td>0.744</td>\n",
       "      <td>...</td>\n",
       "      <td>43.0</td>\n",
       "      <td>1610612737</td>\n",
       "      <td>117.0</td>\n",
       "      <td>0.422</td>\n",
       "      <td>0.837</td>\n",
       "      <td>0.297</td>\n",
       "      <td>24.0</td>\n",
       "      <td>47.0</td>\n",
       "      <td>0</td>\n",
       "      <td>0.750</td>\n",
       "    </tr>\n",
       "    <tr>\n",
       "      <th>3</th>\n",
       "      <td>2020-12-18</td>\n",
       "      <td>12000039</td>\n",
       "      <td>Final</td>\n",
       "      <td>1610612754</td>\n",
       "      <td>1610612755</td>\n",
       "      <td>2020</td>\n",
       "      <td>1610612754</td>\n",
       "      <td>107.0</td>\n",
       "      <td>0.371</td>\n",
       "      <td>0.692</td>\n",
       "      <td>...</td>\n",
       "      <td>45.0</td>\n",
       "      <td>1610612755</td>\n",
       "      <td>113.0</td>\n",
       "      <td>0.533</td>\n",
       "      <td>0.629</td>\n",
       "      <td>0.355</td>\n",
       "      <td>23.0</td>\n",
       "      <td>48.0</td>\n",
       "      <td>0</td>\n",
       "      <td>0.000</td>\n",
       "    </tr>\n",
       "    <tr>\n",
       "      <th>4</th>\n",
       "      <td>2020-12-18</td>\n",
       "      <td>12000040</td>\n",
       "      <td>Final</td>\n",
       "      <td>1610612761</td>\n",
       "      <td>1610612748</td>\n",
       "      <td>2020</td>\n",
       "      <td>1610612761</td>\n",
       "      <td>105.0</td>\n",
       "      <td>0.380</td>\n",
       "      <td>0.737</td>\n",
       "      <td>...</td>\n",
       "      <td>37.0</td>\n",
       "      <td>1610612748</td>\n",
       "      <td>117.0</td>\n",
       "      <td>0.534</td>\n",
       "      <td>0.741</td>\n",
       "      <td>0.514</td>\n",
       "      <td>30.0</td>\n",
       "      <td>51.0</td>\n",
       "      <td>0</td>\n",
       "      <td>0.667</td>\n",
       "    </tr>\n",
       "  </tbody>\n",
       "</table>\n",
       "<p>5 rows × 22 columns</p>\n",
       "</div>"
      ],
      "text/plain": [
       "  GAME_DATE_EST   GAME_ID GAME_STATUS_TEXT  HOME_TEAM_ID  VISITOR_TEAM_ID  \\\n",
       "0    2020-12-19  12000047            Final    1610612753       1610612766   \n",
       "1    2020-12-19  12000048            Final    1610612764       1610612765   \n",
       "2    2020-12-19  12000049            Final    1610612763       1610612737   \n",
       "3    2020-12-18  12000039            Final    1610612754       1610612755   \n",
       "4    2020-12-18  12000040            Final    1610612761       1610612748   \n",
       "\n",
       "   SEASON  TEAM_ID_home  PTS_home  FG_PCT_home  FT_PCT_home  ...  REB_home  \\\n",
       "0    2020    1610612753     120.0        0.433        0.792  ...      50.0   \n",
       "1    2020    1610612764      99.0        0.427        0.625  ...      45.0   \n",
       "2    2020    1610612763     116.0        0.400        0.744  ...      43.0   \n",
       "3    2020    1610612754     107.0        0.371        0.692  ...      45.0   \n",
       "4    2020    1610612761     105.0        0.380        0.737  ...      37.0   \n",
       "\n",
       "   TEAM_ID_away  PTS_away  FG_PCT_away  FT_PCT_away  FG3_PCT_away  AST_away  \\\n",
       "0    1610612766     117.0        0.444        0.864         0.439      21.0   \n",
       "1    1610612765      96.0        0.402        0.647         0.326      18.0   \n",
       "2    1610612737     117.0        0.422        0.837         0.297      24.0   \n",
       "3    1610612755     113.0        0.533        0.629         0.355      23.0   \n",
       "4    1610612748     117.0        0.534        0.741         0.514      30.0   \n",
       "\n",
       "   REB_away  HOME_TEAM_WINS  HOME_W_PCT  \n",
       "0      52.0               1       0.500  \n",
       "1      51.0               1       0.333  \n",
       "2      47.0               0       0.750  \n",
       "3      48.0               0       0.000  \n",
       "4      51.0               0       0.667  \n",
       "\n",
       "[5 rows x 22 columns]"
      ]
     },
     "execution_count": 9,
     "metadata": {},
     "output_type": "execute_result"
    }
   ],
   "source": [
    "games = games.rename(columns={\"W_PCT\": \"HOME_W_PCT\"})\n",
    "games.head()"
   ]
  },
  {
   "cell_type": "code",
   "execution_count": 10,
   "metadata": {},
   "outputs": [],
   "source": [
    "games = games.merge(ranking_df, left_on=[\"VISITOR_TEAM_ID\", \"GAME_DATE_EST\"], right_on=[\"TEAM_ID\", \"STANDINGSDATE\"])[gameslist+rankinglist]"
   ]
  },
  {
   "cell_type": "code",
   "execution_count": 11,
   "metadata": {},
   "outputs": [
    {
     "data": {
      "text/html": [
       "<div>\n",
       "<style scoped>\n",
       "    .dataframe tbody tr th:only-of-type {\n",
       "        vertical-align: middle;\n",
       "    }\n",
       "\n",
       "    .dataframe tbody tr th {\n",
       "        vertical-align: top;\n",
       "    }\n",
       "\n",
       "    .dataframe thead th {\n",
       "        text-align: right;\n",
       "    }\n",
       "</style>\n",
       "<table border=\"1\" class=\"dataframe\">\n",
       "  <thead>\n",
       "    <tr style=\"text-align: right;\">\n",
       "      <th></th>\n",
       "      <th>GAME_DATE_EST</th>\n",
       "      <th>GAME_ID</th>\n",
       "      <th>GAME_STATUS_TEXT</th>\n",
       "      <th>HOME_TEAM_ID</th>\n",
       "      <th>VISITOR_TEAM_ID</th>\n",
       "      <th>SEASON</th>\n",
       "      <th>TEAM_ID_home</th>\n",
       "      <th>PTS_home</th>\n",
       "      <th>FG_PCT_home</th>\n",
       "      <th>FT_PCT_home</th>\n",
       "      <th>...</th>\n",
       "      <th>REB_home</th>\n",
       "      <th>TEAM_ID_away</th>\n",
       "      <th>PTS_away</th>\n",
       "      <th>FG_PCT_away</th>\n",
       "      <th>FT_PCT_away</th>\n",
       "      <th>FG3_PCT_away</th>\n",
       "      <th>AST_away</th>\n",
       "      <th>REB_away</th>\n",
       "      <th>HOME_TEAM_WINS</th>\n",
       "      <th>W_PCT</th>\n",
       "    </tr>\n",
       "  </thead>\n",
       "  <tbody>\n",
       "    <tr>\n",
       "      <th>0</th>\n",
       "      <td>2020-12-19</td>\n",
       "      <td>12000047</td>\n",
       "      <td>Final</td>\n",
       "      <td>1610612753</td>\n",
       "      <td>1610612766</td>\n",
       "      <td>2020</td>\n",
       "      <td>1610612753</td>\n",
       "      <td>120.0</td>\n",
       "      <td>0.433</td>\n",
       "      <td>0.792</td>\n",
       "      <td>...</td>\n",
       "      <td>50.0</td>\n",
       "      <td>1610612766</td>\n",
       "      <td>117.0</td>\n",
       "      <td>0.444</td>\n",
       "      <td>0.864</td>\n",
       "      <td>0.439</td>\n",
       "      <td>21.0</td>\n",
       "      <td>52.0</td>\n",
       "      <td>1</td>\n",
       "      <td>0.25</td>\n",
       "    </tr>\n",
       "    <tr>\n",
       "      <th>1</th>\n",
       "      <td>2020-12-19</td>\n",
       "      <td>12000048</td>\n",
       "      <td>Final</td>\n",
       "      <td>1610612764</td>\n",
       "      <td>1610612765</td>\n",
       "      <td>2020</td>\n",
       "      <td>1610612764</td>\n",
       "      <td>99.0</td>\n",
       "      <td>0.427</td>\n",
       "      <td>0.625</td>\n",
       "      <td>...</td>\n",
       "      <td>45.0</td>\n",
       "      <td>1610612765</td>\n",
       "      <td>96.0</td>\n",
       "      <td>0.402</td>\n",
       "      <td>0.647</td>\n",
       "      <td>0.326</td>\n",
       "      <td>18.0</td>\n",
       "      <td>51.0</td>\n",
       "      <td>1</td>\n",
       "      <td>0.50</td>\n",
       "    </tr>\n",
       "    <tr>\n",
       "      <th>2</th>\n",
       "      <td>2020-12-19</td>\n",
       "      <td>12000049</td>\n",
       "      <td>Final</td>\n",
       "      <td>1610612763</td>\n",
       "      <td>1610612737</td>\n",
       "      <td>2020</td>\n",
       "      <td>1610612763</td>\n",
       "      <td>116.0</td>\n",
       "      <td>0.400</td>\n",
       "      <td>0.744</td>\n",
       "      <td>...</td>\n",
       "      <td>43.0</td>\n",
       "      <td>1610612737</td>\n",
       "      <td>117.0</td>\n",
       "      <td>0.422</td>\n",
       "      <td>0.837</td>\n",
       "      <td>0.297</td>\n",
       "      <td>24.0</td>\n",
       "      <td>47.0</td>\n",
       "      <td>0</td>\n",
       "      <td>0.50</td>\n",
       "    </tr>\n",
       "    <tr>\n",
       "      <th>3</th>\n",
       "      <td>2020-12-18</td>\n",
       "      <td>12000039</td>\n",
       "      <td>Final</td>\n",
       "      <td>1610612754</td>\n",
       "      <td>1610612755</td>\n",
       "      <td>2020</td>\n",
       "      <td>1610612754</td>\n",
       "      <td>107.0</td>\n",
       "      <td>0.371</td>\n",
       "      <td>0.692</td>\n",
       "      <td>...</td>\n",
       "      <td>45.0</td>\n",
       "      <td>1610612755</td>\n",
       "      <td>113.0</td>\n",
       "      <td>0.533</td>\n",
       "      <td>0.629</td>\n",
       "      <td>0.355</td>\n",
       "      <td>23.0</td>\n",
       "      <td>48.0</td>\n",
       "      <td>0</td>\n",
       "      <td>1.00</td>\n",
       "    </tr>\n",
       "    <tr>\n",
       "      <th>4</th>\n",
       "      <td>2020-12-18</td>\n",
       "      <td>12000040</td>\n",
       "      <td>Final</td>\n",
       "      <td>1610612761</td>\n",
       "      <td>1610612748</td>\n",
       "      <td>2020</td>\n",
       "      <td>1610612761</td>\n",
       "      <td>105.0</td>\n",
       "      <td>0.380</td>\n",
       "      <td>0.737</td>\n",
       "      <td>...</td>\n",
       "      <td>37.0</td>\n",
       "      <td>1610612748</td>\n",
       "      <td>117.0</td>\n",
       "      <td>0.534</td>\n",
       "      <td>0.741</td>\n",
       "      <td>0.514</td>\n",
       "      <td>30.0</td>\n",
       "      <td>51.0</td>\n",
       "      <td>0</td>\n",
       "      <td>0.50</td>\n",
       "    </tr>\n",
       "  </tbody>\n",
       "</table>\n",
       "<p>5 rows × 22 columns</p>\n",
       "</div>"
      ],
      "text/plain": [
       "  GAME_DATE_EST   GAME_ID GAME_STATUS_TEXT  HOME_TEAM_ID  VISITOR_TEAM_ID  \\\n",
       "0    2020-12-19  12000047            Final    1610612753       1610612766   \n",
       "1    2020-12-19  12000048            Final    1610612764       1610612765   \n",
       "2    2020-12-19  12000049            Final    1610612763       1610612737   \n",
       "3    2020-12-18  12000039            Final    1610612754       1610612755   \n",
       "4    2020-12-18  12000040            Final    1610612761       1610612748   \n",
       "\n",
       "   SEASON  TEAM_ID_home  PTS_home  FG_PCT_home  FT_PCT_home  ...  REB_home  \\\n",
       "0    2020    1610612753     120.0        0.433        0.792  ...      50.0   \n",
       "1    2020    1610612764      99.0        0.427        0.625  ...      45.0   \n",
       "2    2020    1610612763     116.0        0.400        0.744  ...      43.0   \n",
       "3    2020    1610612754     107.0        0.371        0.692  ...      45.0   \n",
       "4    2020    1610612761     105.0        0.380        0.737  ...      37.0   \n",
       "\n",
       "   TEAM_ID_away  PTS_away  FG_PCT_away  FT_PCT_away  FG3_PCT_away  AST_away  \\\n",
       "0    1610612766     117.0        0.444        0.864         0.439      21.0   \n",
       "1    1610612765      96.0        0.402        0.647         0.326      18.0   \n",
       "2    1610612737     117.0        0.422        0.837         0.297      24.0   \n",
       "3    1610612755     113.0        0.533        0.629         0.355      23.0   \n",
       "4    1610612748     117.0        0.534        0.741         0.514      30.0   \n",
       "\n",
       "   REB_away  HOME_TEAM_WINS  W_PCT  \n",
       "0      52.0               1   0.25  \n",
       "1      51.0               1   0.50  \n",
       "2      47.0               0   0.50  \n",
       "3      48.0               0   1.00  \n",
       "4      51.0               0   0.50  \n",
       "\n",
       "[5 rows x 22 columns]"
      ]
     },
     "execution_count": 11,
     "metadata": {},
     "output_type": "execute_result"
    }
   ],
   "source": [
    "games.head()"
   ]
  },
  {
   "cell_type": "code",
   "execution_count": null,
   "metadata": {},
   "outputs": [],
   "source": []
  },
  {
   "cell_type": "code",
   "execution_count": 11,
   "metadata": {},
   "outputs": [
    {
     "data": {
      "text/html": [
       "<div>\n",
       "<style scoped>\n",
       "    .dataframe tbody tr th:only-of-type {\n",
       "        vertical-align: middle;\n",
       "    }\n",
       "\n",
       "    .dataframe tbody tr th {\n",
       "        vertical-align: top;\n",
       "    }\n",
       "\n",
       "    .dataframe thead th {\n",
       "        text-align: right;\n",
       "    }\n",
       "</style>\n",
       "<table border=\"1\" class=\"dataframe\">\n",
       "  <thead>\n",
       "    <tr style=\"text-align: right;\">\n",
       "      <th></th>\n",
       "      <th>GAME_DATE_EST</th>\n",
       "      <th>GAME_ID</th>\n",
       "      <th>GAME_STATUS_TEXT</th>\n",
       "      <th>HOME_TEAM_ID</th>\n",
       "      <th>VISITOR_TEAM_ID</th>\n",
       "      <th>SEASON</th>\n",
       "      <th>TEAM_ID_home</th>\n",
       "      <th>PTS_home</th>\n",
       "      <th>FG_PCT_home</th>\n",
       "      <th>FT_PCT_home</th>\n",
       "      <th>...</th>\n",
       "      <th>REB_home</th>\n",
       "      <th>TEAM_ID_away</th>\n",
       "      <th>PTS_away</th>\n",
       "      <th>FG_PCT_away</th>\n",
       "      <th>FT_PCT_away</th>\n",
       "      <th>FG3_PCT_away</th>\n",
       "      <th>AST_away</th>\n",
       "      <th>REB_away</th>\n",
       "      <th>HOME_TEAM_WINS</th>\n",
       "      <th>VISITOR_W_PCT</th>\n",
       "    </tr>\n",
       "  </thead>\n",
       "  <tbody>\n",
       "    <tr>\n",
       "      <th>0</th>\n",
       "      <td>2020-12-19</td>\n",
       "      <td>12000047</td>\n",
       "      <td>Final</td>\n",
       "      <td>1610612753</td>\n",
       "      <td>1610612766</td>\n",
       "      <td>2020</td>\n",
       "      <td>1610612753</td>\n",
       "      <td>120.0</td>\n",
       "      <td>0.433</td>\n",
       "      <td>0.792</td>\n",
       "      <td>...</td>\n",
       "      <td>50.0</td>\n",
       "      <td>1610612766</td>\n",
       "      <td>117.0</td>\n",
       "      <td>0.444</td>\n",
       "      <td>0.864</td>\n",
       "      <td>0.439</td>\n",
       "      <td>21.0</td>\n",
       "      <td>52.0</td>\n",
       "      <td>1</td>\n",
       "      <td>0.25</td>\n",
       "    </tr>\n",
       "    <tr>\n",
       "      <th>1</th>\n",
       "      <td>2020-12-19</td>\n",
       "      <td>12000048</td>\n",
       "      <td>Final</td>\n",
       "      <td>1610612764</td>\n",
       "      <td>1610612765</td>\n",
       "      <td>2020</td>\n",
       "      <td>1610612764</td>\n",
       "      <td>99.0</td>\n",
       "      <td>0.427</td>\n",
       "      <td>0.625</td>\n",
       "      <td>...</td>\n",
       "      <td>45.0</td>\n",
       "      <td>1610612765</td>\n",
       "      <td>96.0</td>\n",
       "      <td>0.402</td>\n",
       "      <td>0.647</td>\n",
       "      <td>0.326</td>\n",
       "      <td>18.0</td>\n",
       "      <td>51.0</td>\n",
       "      <td>1</td>\n",
       "      <td>0.50</td>\n",
       "    </tr>\n",
       "    <tr>\n",
       "      <th>2</th>\n",
       "      <td>2020-12-19</td>\n",
       "      <td>12000049</td>\n",
       "      <td>Final</td>\n",
       "      <td>1610612763</td>\n",
       "      <td>1610612737</td>\n",
       "      <td>2020</td>\n",
       "      <td>1610612763</td>\n",
       "      <td>116.0</td>\n",
       "      <td>0.400</td>\n",
       "      <td>0.744</td>\n",
       "      <td>...</td>\n",
       "      <td>43.0</td>\n",
       "      <td>1610612737</td>\n",
       "      <td>117.0</td>\n",
       "      <td>0.422</td>\n",
       "      <td>0.837</td>\n",
       "      <td>0.297</td>\n",
       "      <td>24.0</td>\n",
       "      <td>47.0</td>\n",
       "      <td>0</td>\n",
       "      <td>0.50</td>\n",
       "    </tr>\n",
       "    <tr>\n",
       "      <th>3</th>\n",
       "      <td>2020-12-18</td>\n",
       "      <td>12000039</td>\n",
       "      <td>Final</td>\n",
       "      <td>1610612754</td>\n",
       "      <td>1610612755</td>\n",
       "      <td>2020</td>\n",
       "      <td>1610612754</td>\n",
       "      <td>107.0</td>\n",
       "      <td>0.371</td>\n",
       "      <td>0.692</td>\n",
       "      <td>...</td>\n",
       "      <td>45.0</td>\n",
       "      <td>1610612755</td>\n",
       "      <td>113.0</td>\n",
       "      <td>0.533</td>\n",
       "      <td>0.629</td>\n",
       "      <td>0.355</td>\n",
       "      <td>23.0</td>\n",
       "      <td>48.0</td>\n",
       "      <td>0</td>\n",
       "      <td>1.00</td>\n",
       "    </tr>\n",
       "    <tr>\n",
       "      <th>4</th>\n",
       "      <td>2020-12-18</td>\n",
       "      <td>12000040</td>\n",
       "      <td>Final</td>\n",
       "      <td>1610612761</td>\n",
       "      <td>1610612748</td>\n",
       "      <td>2020</td>\n",
       "      <td>1610612761</td>\n",
       "      <td>105.0</td>\n",
       "      <td>0.380</td>\n",
       "      <td>0.737</td>\n",
       "      <td>...</td>\n",
       "      <td>37.0</td>\n",
       "      <td>1610612748</td>\n",
       "      <td>117.0</td>\n",
       "      <td>0.534</td>\n",
       "      <td>0.741</td>\n",
       "      <td>0.514</td>\n",
       "      <td>30.0</td>\n",
       "      <td>51.0</td>\n",
       "      <td>0</td>\n",
       "      <td>0.50</td>\n",
       "    </tr>\n",
       "  </tbody>\n",
       "</table>\n",
       "<p>5 rows × 22 columns</p>\n",
       "</div>"
      ],
      "text/plain": [
       "  GAME_DATE_EST   GAME_ID GAME_STATUS_TEXT  HOME_TEAM_ID  VISITOR_TEAM_ID  \\\n",
       "0    2020-12-19  12000047            Final    1610612753       1610612766   \n",
       "1    2020-12-19  12000048            Final    1610612764       1610612765   \n",
       "2    2020-12-19  12000049            Final    1610612763       1610612737   \n",
       "3    2020-12-18  12000039            Final    1610612754       1610612755   \n",
       "4    2020-12-18  12000040            Final    1610612761       1610612748   \n",
       "\n",
       "   SEASON  TEAM_ID_home  PTS_home  FG_PCT_home  FT_PCT_home  ...  REB_home  \\\n",
       "0    2020    1610612753     120.0        0.433        0.792  ...      50.0   \n",
       "1    2020    1610612764      99.0        0.427        0.625  ...      45.0   \n",
       "2    2020    1610612763     116.0        0.400        0.744  ...      43.0   \n",
       "3    2020    1610612754     107.0        0.371        0.692  ...      45.0   \n",
       "4    2020    1610612761     105.0        0.380        0.737  ...      37.0   \n",
       "\n",
       "   TEAM_ID_away  PTS_away  FG_PCT_away  FT_PCT_away  FG3_PCT_away  AST_away  \\\n",
       "0    1610612766     117.0        0.444        0.864         0.439      21.0   \n",
       "1    1610612765      96.0        0.402        0.647         0.326      18.0   \n",
       "2    1610612737     117.0        0.422        0.837         0.297      24.0   \n",
       "3    1610612755     113.0        0.533        0.629         0.355      23.0   \n",
       "4    1610612748     117.0        0.534        0.741         0.514      30.0   \n",
       "\n",
       "   REB_away  HOME_TEAM_WINS  VISITOR_W_PCT  \n",
       "0      52.0               1           0.25  \n",
       "1      51.0               1           0.50  \n",
       "2      47.0               0           0.50  \n",
       "3      48.0               0           1.00  \n",
       "4      51.0               0           0.50  \n",
       "\n",
       "[5 rows x 22 columns]"
      ]
     },
     "execution_count": 11,
     "metadata": {},
     "output_type": "execute_result"
    }
   ],
   "source": [
    "games = games.rename(columns={\"W_PCT\": \"VISITOR_W_PCT\"})\n",
    "games.head()"
   ]
  },
  {
   "cell_type": "code",
   "execution_count": 12,
   "metadata": {},
   "outputs": [
    {
     "data": {
      "text/plain": [
       "['GAME_DATE_EST',\n",
       " 'GAME_ID',\n",
       " 'GAME_STATUS_TEXT',\n",
       " 'HOME_TEAM_ID',\n",
       " 'VISITOR_TEAM_ID',\n",
       " 'SEASON',\n",
       " 'TEAM_ID_home',\n",
       " 'PTS_home',\n",
       " 'FG_PCT_home',\n",
       " 'FT_PCT_home',\n",
       " 'FG3_PCT_home',\n",
       " 'AST_home',\n",
       " 'REB_home',\n",
       " 'TEAM_ID_away',\n",
       " 'PTS_away',\n",
       " 'FG_PCT_away',\n",
       " 'FT_PCT_away',\n",
       " 'FG3_PCT_away',\n",
       " 'AST_away',\n",
       " 'REB_away',\n",
       " 'HOME_TEAM_WINS',\n",
       " 'VISITOR_W_PCT']"
      ]
     },
     "execution_count": 12,
     "metadata": {},
     "output_type": "execute_result"
    }
   ],
   "source": [
    "list(games.columns)"
   ]
  },
  {
   "cell_type": "code",
   "execution_count": 13,
   "metadata": {},
   "outputs": [],
   "source": [
    "selected_columns = games[['PTS_home', 'FG_PCT_home', 'FT_PCT_home', 'FG3_PCT_home', 'AST_home', 'REB_home', 'PTS_away','FG_PCT_away', 'FT_PCT_away', 'FG3_PCT_away', 'AST_away', 'REB_away', 'HOME_TEAM_WINS', 'VISITOR_W_PCT' ]]"
   ]
  },
  {
   "cell_type": "code",
   "execution_count": 14,
   "metadata": {},
   "outputs": [
    {
     "data": {
      "text/html": [
       "<div>\n",
       "<style scoped>\n",
       "    .dataframe tbody tr th:only-of-type {\n",
       "        vertical-align: middle;\n",
       "    }\n",
       "\n",
       "    .dataframe tbody tr th {\n",
       "        vertical-align: top;\n",
       "    }\n",
       "\n",
       "    .dataframe thead th {\n",
       "        text-align: right;\n",
       "    }\n",
       "</style>\n",
       "<table border=\"1\" class=\"dataframe\">\n",
       "  <thead>\n",
       "    <tr style=\"text-align: right;\">\n",
       "      <th></th>\n",
       "      <th>PTS_home</th>\n",
       "      <th>FG_PCT_home</th>\n",
       "      <th>FT_PCT_home</th>\n",
       "      <th>FG3_PCT_home</th>\n",
       "      <th>AST_home</th>\n",
       "      <th>REB_home</th>\n",
       "      <th>PTS_away</th>\n",
       "      <th>FG_PCT_away</th>\n",
       "      <th>FT_PCT_away</th>\n",
       "      <th>FG3_PCT_away</th>\n",
       "      <th>AST_away</th>\n",
       "      <th>REB_away</th>\n",
       "      <th>HOME_TEAM_WINS</th>\n",
       "      <th>VISITOR_W_PCT</th>\n",
       "    </tr>\n",
       "  </thead>\n",
       "  <tbody>\n",
       "    <tr>\n",
       "      <th>0</th>\n",
       "      <td>120.0</td>\n",
       "      <td>0.433</td>\n",
       "      <td>0.792</td>\n",
       "      <td>0.425</td>\n",
       "      <td>23.0</td>\n",
       "      <td>50.0</td>\n",
       "      <td>117.0</td>\n",
       "      <td>0.444</td>\n",
       "      <td>0.864</td>\n",
       "      <td>0.439</td>\n",
       "      <td>21.0</td>\n",
       "      <td>52.0</td>\n",
       "      <td>1</td>\n",
       "      <td>0.25</td>\n",
       "    </tr>\n",
       "    <tr>\n",
       "      <th>1</th>\n",
       "      <td>99.0</td>\n",
       "      <td>0.427</td>\n",
       "      <td>0.625</td>\n",
       "      <td>0.295</td>\n",
       "      <td>24.0</td>\n",
       "      <td>45.0</td>\n",
       "      <td>96.0</td>\n",
       "      <td>0.402</td>\n",
       "      <td>0.647</td>\n",
       "      <td>0.326</td>\n",
       "      <td>18.0</td>\n",
       "      <td>51.0</td>\n",
       "      <td>1</td>\n",
       "      <td>0.50</td>\n",
       "    </tr>\n",
       "    <tr>\n",
       "      <th>2</th>\n",
       "      <td>116.0</td>\n",
       "      <td>0.400</td>\n",
       "      <td>0.744</td>\n",
       "      <td>0.396</td>\n",
       "      <td>21.0</td>\n",
       "      <td>43.0</td>\n",
       "      <td>117.0</td>\n",
       "      <td>0.422</td>\n",
       "      <td>0.837</td>\n",
       "      <td>0.297</td>\n",
       "      <td>24.0</td>\n",
       "      <td>47.0</td>\n",
       "      <td>0</td>\n",
       "      <td>0.50</td>\n",
       "    </tr>\n",
       "    <tr>\n",
       "      <th>3</th>\n",
       "      <td>107.0</td>\n",
       "      <td>0.371</td>\n",
       "      <td>0.692</td>\n",
       "      <td>0.262</td>\n",
       "      <td>19.0</td>\n",
       "      <td>45.0</td>\n",
       "      <td>113.0</td>\n",
       "      <td>0.533</td>\n",
       "      <td>0.629</td>\n",
       "      <td>0.355</td>\n",
       "      <td>23.0</td>\n",
       "      <td>48.0</td>\n",
       "      <td>0</td>\n",
       "      <td>1.00</td>\n",
       "    </tr>\n",
       "    <tr>\n",
       "      <th>4</th>\n",
       "      <td>105.0</td>\n",
       "      <td>0.380</td>\n",
       "      <td>0.737</td>\n",
       "      <td>0.356</td>\n",
       "      <td>27.0</td>\n",
       "      <td>37.0</td>\n",
       "      <td>117.0</td>\n",
       "      <td>0.534</td>\n",
       "      <td>0.741</td>\n",
       "      <td>0.514</td>\n",
       "      <td>30.0</td>\n",
       "      <td>51.0</td>\n",
       "      <td>0</td>\n",
       "      <td>0.50</td>\n",
       "    </tr>\n",
       "  </tbody>\n",
       "</table>\n",
       "</div>"
      ],
      "text/plain": [
       "   PTS_home  FG_PCT_home  FT_PCT_home  FG3_PCT_home  AST_home  REB_home  \\\n",
       "0     120.0        0.433        0.792         0.425      23.0      50.0   \n",
       "1      99.0        0.427        0.625         0.295      24.0      45.0   \n",
       "2     116.0        0.400        0.744         0.396      21.0      43.0   \n",
       "3     107.0        0.371        0.692         0.262      19.0      45.0   \n",
       "4     105.0        0.380        0.737         0.356      27.0      37.0   \n",
       "\n",
       "   PTS_away  FG_PCT_away  FT_PCT_away  FG3_PCT_away  AST_away  REB_away  \\\n",
       "0     117.0        0.444        0.864         0.439      21.0      52.0   \n",
       "1      96.0        0.402        0.647         0.326      18.0      51.0   \n",
       "2     117.0        0.422        0.837         0.297      24.0      47.0   \n",
       "3     113.0        0.533        0.629         0.355      23.0      48.0   \n",
       "4     117.0        0.534        0.741         0.514      30.0      51.0   \n",
       "\n",
       "   HOME_TEAM_WINS  VISITOR_W_PCT  \n",
       "0               1           0.25  \n",
       "1               1           0.50  \n",
       "2               0           0.50  \n",
       "3               0           1.00  \n",
       "4               0           0.50  "
      ]
     },
     "execution_count": 14,
     "metadata": {},
     "output_type": "execute_result"
    }
   ],
   "source": [
    "data = selected_columns.copy()\n",
    "data.head()"
   ]
  },
  {
   "cell_type": "code",
   "execution_count": 15,
   "metadata": {},
   "outputs": [
    {
     "data": {
      "text/plain": [
       "329280"
      ]
     },
     "execution_count": 15,
     "metadata": {},
     "output_type": "execute_result"
    }
   ],
   "source": [
    "data.size"
   ]
  },
  {
   "cell_type": "code",
   "execution_count": 41,
   "metadata": {},
   "outputs": [
    {
     "data": {
      "text/plain": [
       "1    13901\n",
       "0     9619\n",
       "Name: HOME_TEAM_WINS, dtype: int64"
      ]
     },
     "execution_count": 41,
     "metadata": {},
     "output_type": "execute_result"
    }
   ],
   "source": [
    "data.HOME_TEAM_WINS.value_counts()"
   ]
  },
  {
   "cell_type": "code",
   "execution_count": 44,
   "metadata": {},
   "outputs": [
    {
     "data": {
      "text/plain": [
       "0.5910289115646259"
      ]
     },
     "execution_count": 44,
     "metadata": {},
     "output_type": "execute_result"
    }
   ],
   "source": [
    "data.HOME_TEAM_WINS.value_counts()[1]/data.shape[0]"
   ]
  },
  {
   "cell_type": "code",
   "execution_count": 16,
   "metadata": {},
   "outputs": [],
   "source": [
    "data_df = data.dropna()"
   ]
  },
  {
   "cell_type": "code",
   "execution_count": 17,
   "metadata": {},
   "outputs": [],
   "source": [
    "data_df = data_df.replace([np.inf, -np.inf], np.nan).dropna(axis=0)\n"
   ]
  },
  {
   "cell_type": "code",
   "execution_count": 18,
   "metadata": {},
   "outputs": [
    {
     "data": {
      "text/html": [
       "<div>\n",
       "<style scoped>\n",
       "    .dataframe tbody tr th:only-of-type {\n",
       "        vertical-align: middle;\n",
       "    }\n",
       "\n",
       "    .dataframe tbody tr th {\n",
       "        vertical-align: top;\n",
       "    }\n",
       "\n",
       "    .dataframe thead th {\n",
       "        text-align: right;\n",
       "    }\n",
       "</style>\n",
       "<table border=\"1\" class=\"dataframe\">\n",
       "  <thead>\n",
       "    <tr style=\"text-align: right;\">\n",
       "      <th></th>\n",
       "      <th>PTS_home</th>\n",
       "      <th>FG_PCT_home</th>\n",
       "      <th>FT_PCT_home</th>\n",
       "      <th>FG3_PCT_home</th>\n",
       "      <th>AST_home</th>\n",
       "      <th>REB_home</th>\n",
       "      <th>PTS_away</th>\n",
       "      <th>FG_PCT_away</th>\n",
       "      <th>FT_PCT_away</th>\n",
       "      <th>FG3_PCT_away</th>\n",
       "      <th>AST_away</th>\n",
       "      <th>REB_away</th>\n",
       "      <th>HOME_TEAM_WINS</th>\n",
       "      <th>VISITOR_W_PCT</th>\n",
       "    </tr>\n",
       "  </thead>\n",
       "  <tbody>\n",
       "    <tr>\n",
       "      <th>0</th>\n",
       "      <td>120.0</td>\n",
       "      <td>0.433</td>\n",
       "      <td>0.792</td>\n",
       "      <td>0.425</td>\n",
       "      <td>23.0</td>\n",
       "      <td>50.0</td>\n",
       "      <td>117.0</td>\n",
       "      <td>0.444</td>\n",
       "      <td>0.864</td>\n",
       "      <td>0.439</td>\n",
       "      <td>21.0</td>\n",
       "      <td>52.0</td>\n",
       "      <td>1</td>\n",
       "      <td>0.25</td>\n",
       "    </tr>\n",
       "    <tr>\n",
       "      <th>1</th>\n",
       "      <td>99.0</td>\n",
       "      <td>0.427</td>\n",
       "      <td>0.625</td>\n",
       "      <td>0.295</td>\n",
       "      <td>24.0</td>\n",
       "      <td>45.0</td>\n",
       "      <td>96.0</td>\n",
       "      <td>0.402</td>\n",
       "      <td>0.647</td>\n",
       "      <td>0.326</td>\n",
       "      <td>18.0</td>\n",
       "      <td>51.0</td>\n",
       "      <td>1</td>\n",
       "      <td>0.50</td>\n",
       "    </tr>\n",
       "    <tr>\n",
       "      <th>2</th>\n",
       "      <td>116.0</td>\n",
       "      <td>0.400</td>\n",
       "      <td>0.744</td>\n",
       "      <td>0.396</td>\n",
       "      <td>21.0</td>\n",
       "      <td>43.0</td>\n",
       "      <td>117.0</td>\n",
       "      <td>0.422</td>\n",
       "      <td>0.837</td>\n",
       "      <td>0.297</td>\n",
       "      <td>24.0</td>\n",
       "      <td>47.0</td>\n",
       "      <td>0</td>\n",
       "      <td>0.50</td>\n",
       "    </tr>\n",
       "    <tr>\n",
       "      <th>3</th>\n",
       "      <td>107.0</td>\n",
       "      <td>0.371</td>\n",
       "      <td>0.692</td>\n",
       "      <td>0.262</td>\n",
       "      <td>19.0</td>\n",
       "      <td>45.0</td>\n",
       "      <td>113.0</td>\n",
       "      <td>0.533</td>\n",
       "      <td>0.629</td>\n",
       "      <td>0.355</td>\n",
       "      <td>23.0</td>\n",
       "      <td>48.0</td>\n",
       "      <td>0</td>\n",
       "      <td>1.00</td>\n",
       "    </tr>\n",
       "    <tr>\n",
       "      <th>4</th>\n",
       "      <td>105.0</td>\n",
       "      <td>0.380</td>\n",
       "      <td>0.737</td>\n",
       "      <td>0.356</td>\n",
       "      <td>27.0</td>\n",
       "      <td>37.0</td>\n",
       "      <td>117.0</td>\n",
       "      <td>0.534</td>\n",
       "      <td>0.741</td>\n",
       "      <td>0.514</td>\n",
       "      <td>30.0</td>\n",
       "      <td>51.0</td>\n",
       "      <td>0</td>\n",
       "      <td>0.50</td>\n",
       "    </tr>\n",
       "  </tbody>\n",
       "</table>\n",
       "</div>"
      ],
      "text/plain": [
       "   PTS_home  FG_PCT_home  FT_PCT_home  FG3_PCT_home  AST_home  REB_home  \\\n",
       "0     120.0        0.433        0.792         0.425      23.0      50.0   \n",
       "1      99.0        0.427        0.625         0.295      24.0      45.0   \n",
       "2     116.0        0.400        0.744         0.396      21.0      43.0   \n",
       "3     107.0        0.371        0.692         0.262      19.0      45.0   \n",
       "4     105.0        0.380        0.737         0.356      27.0      37.0   \n",
       "\n",
       "   PTS_away  FG_PCT_away  FT_PCT_away  FG3_PCT_away  AST_away  REB_away  \\\n",
       "0     117.0        0.444        0.864         0.439      21.0      52.0   \n",
       "1      96.0        0.402        0.647         0.326      18.0      51.0   \n",
       "2     117.0        0.422        0.837         0.297      24.0      47.0   \n",
       "3     113.0        0.533        0.629         0.355      23.0      48.0   \n",
       "4     117.0        0.534        0.741         0.514      30.0      51.0   \n",
       "\n",
       "   HOME_TEAM_WINS  VISITOR_W_PCT  \n",
       "0               1           0.25  \n",
       "1               1           0.50  \n",
       "2               0           0.50  \n",
       "3               0           1.00  \n",
       "4               0           0.50  "
      ]
     },
     "execution_count": 18,
     "metadata": {},
     "output_type": "execute_result"
    }
   ],
   "source": [
    "data_df.head()"
   ]
  },
  {
   "cell_type": "code",
   "execution_count": 19,
   "metadata": {},
   "outputs": [
    {
     "data": {
      "text/plain": [
       "327894"
      ]
     },
     "execution_count": 19,
     "metadata": {},
     "output_type": "execute_result"
    }
   ],
   "source": [
    "data_df.size"
   ]
  },
  {
   "cell_type": "code",
   "execution_count": 20,
   "metadata": {},
   "outputs": [
    {
     "data": {
      "text/plain": [
       "PTS_home          float64\n",
       "FG_PCT_home       float64\n",
       "FT_PCT_home       float64\n",
       "FG3_PCT_home      float64\n",
       "AST_home          float64\n",
       "REB_home          float64\n",
       "PTS_away          float64\n",
       "FG_PCT_away       float64\n",
       "FT_PCT_away       float64\n",
       "FG3_PCT_away      float64\n",
       "AST_away          float64\n",
       "REB_away          float64\n",
       "HOME_TEAM_WINS      int64\n",
       "VISITOR_W_PCT     float64\n",
       "dtype: object"
      ]
     },
     "execution_count": 20,
     "metadata": {},
     "output_type": "execute_result"
    }
   ],
   "source": [
    "data_df.dtypes"
   ]
  },
  {
   "cell_type": "code",
   "execution_count": null,
   "metadata": {},
   "outputs": [],
   "source": [
    "# LOGISTIC REGRESSION "
   ]
  },
  {
   "cell_type": "code",
   "execution_count": 21,
   "metadata": {},
   "outputs": [
    {
     "name": "stdout",
     "output_type": "stream",
     "text": [
      "(23421, 13) (23421, 1)\n"
     ]
    }
   ],
   "source": [
    "# Assign X (data) and y (target)\n",
    "X = data_df.drop(\"HOME_TEAM_WINS\", axis=1)\n",
    "y = data_df[\"HOME_TEAM_WINS\"].values.reshape(-1, 1)\n",
    "print(X.shape, y.shape)"
   ]
  },
  {
   "cell_type": "code",
   "execution_count": 22,
   "metadata": {
    "scrolled": true
   },
   "outputs": [
    {
     "data": {
      "text/html": [
       "<div>\n",
       "<style scoped>\n",
       "    .dataframe tbody tr th:only-of-type {\n",
       "        vertical-align: middle;\n",
       "    }\n",
       "\n",
       "    .dataframe tbody tr th {\n",
       "        vertical-align: top;\n",
       "    }\n",
       "\n",
       "    .dataframe thead th {\n",
       "        text-align: right;\n",
       "    }\n",
       "</style>\n",
       "<table border=\"1\" class=\"dataframe\">\n",
       "  <thead>\n",
       "    <tr style=\"text-align: right;\">\n",
       "      <th></th>\n",
       "      <th>PTS_home</th>\n",
       "      <th>FG_PCT_home</th>\n",
       "      <th>FT_PCT_home</th>\n",
       "      <th>FG3_PCT_home</th>\n",
       "      <th>AST_home</th>\n",
       "      <th>REB_home</th>\n",
       "      <th>PTS_away</th>\n",
       "      <th>FG_PCT_away</th>\n",
       "      <th>FT_PCT_away</th>\n",
       "      <th>FG3_PCT_away</th>\n",
       "      <th>AST_away</th>\n",
       "      <th>REB_away</th>\n",
       "      <th>VISITOR_W_PCT</th>\n",
       "    </tr>\n",
       "  </thead>\n",
       "  <tbody>\n",
       "    <tr>\n",
       "      <th>3538</th>\n",
       "      <td>88.0</td>\n",
       "      <td>0.430</td>\n",
       "      <td>0.714</td>\n",
       "      <td>0.278</td>\n",
       "      <td>16.0</td>\n",
       "      <td>38.0</td>\n",
       "      <td>97.0</td>\n",
       "      <td>0.535</td>\n",
       "      <td>0.684</td>\n",
       "      <td>0.421</td>\n",
       "      <td>20.0</td>\n",
       "      <td>36.0</td>\n",
       "      <td>0.727</td>\n",
       "    </tr>\n",
       "    <tr>\n",
       "      <th>19439</th>\n",
       "      <td>101.0</td>\n",
       "      <td>0.464</td>\n",
       "      <td>0.917</td>\n",
       "      <td>0.387</td>\n",
       "      <td>19.0</td>\n",
       "      <td>42.0</td>\n",
       "      <td>113.0</td>\n",
       "      <td>0.481</td>\n",
       "      <td>0.875</td>\n",
       "      <td>0.367</td>\n",
       "      <td>20.0</td>\n",
       "      <td>37.0</td>\n",
       "      <td>0.468</td>\n",
       "    </tr>\n",
       "    <tr>\n",
       "      <th>19056</th>\n",
       "      <td>118.0</td>\n",
       "      <td>0.600</td>\n",
       "      <td>0.762</td>\n",
       "      <td>0.480</td>\n",
       "      <td>29.0</td>\n",
       "      <td>35.0</td>\n",
       "      <td>113.0</td>\n",
       "      <td>0.462</td>\n",
       "      <td>0.824</td>\n",
       "      <td>0.405</td>\n",
       "      <td>24.0</td>\n",
       "      <td>40.0</td>\n",
       "      <td>0.455</td>\n",
       "    </tr>\n",
       "    <tr>\n",
       "      <th>9704</th>\n",
       "      <td>92.0</td>\n",
       "      <td>0.422</td>\n",
       "      <td>0.864</td>\n",
       "      <td>0.176</td>\n",
       "      <td>30.0</td>\n",
       "      <td>54.0</td>\n",
       "      <td>88.0</td>\n",
       "      <td>0.365</td>\n",
       "      <td>0.714</td>\n",
       "      <td>0.429</td>\n",
       "      <td>21.0</td>\n",
       "      <td>46.0</td>\n",
       "      <td>0.200</td>\n",
       "    </tr>\n",
       "    <tr>\n",
       "      <th>15298</th>\n",
       "      <td>94.0</td>\n",
       "      <td>0.434</td>\n",
       "      <td>0.773</td>\n",
       "      <td>0.417</td>\n",
       "      <td>19.0</td>\n",
       "      <td>34.0</td>\n",
       "      <td>101.0</td>\n",
       "      <td>0.493</td>\n",
       "      <td>0.870</td>\n",
       "      <td>0.389</td>\n",
       "      <td>20.0</td>\n",
       "      <td>46.0</td>\n",
       "      <td>0.500</td>\n",
       "    </tr>\n",
       "  </tbody>\n",
       "</table>\n",
       "</div>"
      ],
      "text/plain": [
       "       PTS_home  FG_PCT_home  FT_PCT_home  FG3_PCT_home  AST_home  REB_home  \\\n",
       "3538       88.0        0.430        0.714         0.278      16.0      38.0   \n",
       "19439     101.0        0.464        0.917         0.387      19.0      42.0   \n",
       "19056     118.0        0.600        0.762         0.480      29.0      35.0   \n",
       "9704       92.0        0.422        0.864         0.176      30.0      54.0   \n",
       "15298      94.0        0.434        0.773         0.417      19.0      34.0   \n",
       "\n",
       "       PTS_away  FG_PCT_away  FT_PCT_away  FG3_PCT_away  AST_away  REB_away  \\\n",
       "3538       97.0        0.535        0.684         0.421      20.0      36.0   \n",
       "19439     113.0        0.481        0.875         0.367      20.0      37.0   \n",
       "19056     113.0        0.462        0.824         0.405      24.0      40.0   \n",
       "9704       88.0        0.365        0.714         0.429      21.0      46.0   \n",
       "15298     101.0        0.493        0.870         0.389      20.0      46.0   \n",
       "\n",
       "       VISITOR_W_PCT  \n",
       "3538           0.727  \n",
       "19439          0.468  \n",
       "19056          0.455  \n",
       "9704           0.200  \n",
       "15298          0.500  "
      ]
     },
     "execution_count": 22,
     "metadata": {},
     "output_type": "execute_result"
    }
   ],
   "source": [
    "from sklearn.model_selection import train_test_split\n",
    "\n",
    "X_train, X_test, y_train, y_test = train_test_split(X, y, random_state=42)\n",
    "\n",
    "\n",
    "X_train.head()"
   ]
  },
  {
   "cell_type": "code",
   "execution_count": 23,
   "metadata": {},
   "outputs": [],
   "source": [
    "# Create the scalers using only the training data!\n",
    "from sklearn.preprocessing import StandardScaler\n",
    "X_scaler = StandardScaler().fit(X_train)\n"
   ]
  },
  {
   "cell_type": "code",
   "execution_count": 24,
   "metadata": {},
   "outputs": [],
   "source": [
    "X_train_scaled = X_scaler.transform(X_train)\n",
    "X_test_scaled = X_scaler.transform(X_test)"
   ]
  },
  {
   "cell_type": "code",
   "execution_count": 25,
   "metadata": {},
   "outputs": [
    {
     "data": {
      "text/plain": [
       "LogisticRegression()"
      ]
     },
     "execution_count": 25,
     "metadata": {},
     "output_type": "execute_result"
    }
   ],
   "source": [
    "# create your model\n",
    "from sklearn.linear_model import LogisticRegression\n",
    "classifier = LogisticRegression()\n",
    "classifier"
   ]
  },
  {
   "cell_type": "code",
   "execution_count": 26,
   "metadata": {},
   "outputs": [
    {
     "name": "stderr",
     "output_type": "stream",
     "text": [
      "C:\\Users\\sjrya\\anaconda3\\envs\\PythonData\\lib\\site-packages\\sklearn\\utils\\validation.py:72: DataConversionWarning: A column-vector y was passed when a 1d array was expected. Please change the shape of y to (n_samples, ), for example using ravel().\n",
      "  return f(**kwargs)\n"
     ]
    },
    {
     "data": {
      "text/plain": [
       "LogisticRegression()"
      ]
     },
     "execution_count": 26,
     "metadata": {},
     "output_type": "execute_result"
    }
   ],
   "source": [
    "# Fit (train) or model using the training data\n",
    "classifier.fit(X_train_scaled, y_train)"
   ]
  },
  {
   "cell_type": "code",
   "execution_count": 27,
   "metadata": {
    "scrolled": true
   },
   "outputs": [
    {
     "name": "stdout",
     "output_type": "stream",
     "text": [
      "Training Data Score: 1.0\n",
      "Testing Data Score: 0.9998292349726776\n"
     ]
    }
   ],
   "source": [
    "# Validate the model using the .score() method\n",
    "print(f\"Training Data Score: {classifier.score(X_train_scaled, y_train)}\")\n",
    "print(f\"Testing Data Score: {classifier.score(X_test_scaled, y_test)}\")"
   ]
  },
  {
   "cell_type": "code",
   "execution_count": null,
   "metadata": {},
   "outputs": [],
   "source": [
    "# XGBOOST"
   ]
  },
  {
   "cell_type": "code",
   "execution_count": 29,
   "metadata": {},
   "outputs": [],
   "source": [
    "# create your model\n",
    "model = XGBClassifier()"
   ]
  },
  {
   "cell_type": "code",
   "execution_count": 45,
   "metadata": {},
   "outputs": [],
   "source": [
    "y_pred= classifier.predict(X_test_scaled)"
   ]
  },
  {
   "cell_type": "code",
   "execution_count": 46,
   "metadata": {},
   "outputs": [
    {
     "data": {
      "text/plain": [
       "array([1, 1, 1, ..., 1, 1, 1], dtype=int64)"
      ]
     },
     "execution_count": 46,
     "metadata": {},
     "output_type": "execute_result"
    }
   ],
   "source": [
    "y_pred"
   ]
  },
  {
   "cell_type": "code",
   "execution_count": 47,
   "metadata": {},
   "outputs": [
    {
     "data": {
      "text/plain": [
       "501      1\n",
       "21474    1\n",
       "6224     1\n",
       "447      0\n",
       "6462     1\n",
       "        ..\n",
       "12287    1\n",
       "16891    0\n",
       "1791     1\n",
       "18945    1\n",
       "2677     1\n",
       "Name: HOME_TEAM_WINS, Length: 5856, dtype: int64"
      ]
     },
     "execution_count": 47,
     "metadata": {},
     "output_type": "execute_result"
    }
   ],
   "source": [
    "y_test"
   ]
  },
  {
   "cell_type": "code",
   "execution_count": 50,
   "metadata": {},
   "outputs": [
    {
     "data": {
      "text/plain": [
       "0.9998292349726776"
      ]
     },
     "execution_count": 50,
     "metadata": {},
     "output_type": "execute_result"
    }
   ],
   "source": [
    "(y_pred == y_test).sum()/len(y_pred)"
   ]
  },
  {
   "cell_type": "code",
   "execution_count": null,
   "metadata": {},
   "outputs": [],
   "source": [
    "# TREE"
   ]
  },
  {
   "cell_type": "code",
   "execution_count": 30,
   "metadata": {},
   "outputs": [
    {
     "name": "stderr",
     "output_type": "stream",
     "text": [
      "C:\\Users\\sjrya\\anaconda3\\envs\\PythonData\\lib\\site-packages\\xgboost\\sklearn.py:888: UserWarning: The use of label encoder in XGBClassifier is deprecated and will be removed in a future release. To remove this warning, do the following: 1) Pass option use_label_encoder=False when constructing XGBClassifier object; and 2) Encode your labels (y) as integers starting with 0, i.e. 0, 1, 2, ..., [num_class - 1].\n",
      "  warnings.warn(label_encoder_deprecation_msg, UserWarning)\n",
      "C:\\Users\\sjrya\\anaconda3\\envs\\PythonData\\lib\\site-packages\\sklearn\\utils\\validation.py:72: DataConversionWarning: A column-vector y was passed when a 1d array was expected. Please change the shape of y to (n_samples, ), for example using ravel().\n",
      "  return f(**kwargs)\n"
     ]
    },
    {
     "name": "stdout",
     "output_type": "stream",
     "text": [
      "[20:13:06] WARNING: C:/Users/Administrator/workspace/xgboost-win64_release_1.3.0/src/learner.cc:1061: Starting in XGBoost 1.3.0, the default evaluation metric used with the objective 'binary:logistic' was changed from 'error' to 'logloss'. Explicitly set eval_metric if you'd like to restore the old behavior.\n"
     ]
    },
    {
     "data": {
      "text/plain": [
       "XGBClassifier(base_score=0.5, booster='gbtree', colsample_bylevel=1,\n",
       "              colsample_bynode=1, colsample_bytree=1, gamma=0, gpu_id=-1,\n",
       "              importance_type='gain', interaction_constraints='',\n",
       "              learning_rate=0.300000012, max_delta_step=0, max_depth=6,\n",
       "              min_child_weight=1, missing=nan, monotone_constraints='()',\n",
       "              n_estimators=100, n_jobs=8, num_parallel_tree=1, random_state=0,\n",
       "              reg_alpha=0, reg_lambda=1, scale_pos_weight=1, subsample=1,\n",
       "              tree_method='exact', validate_parameters=1, verbosity=None)"
      ]
     },
     "execution_count": 30,
     "metadata": {},
     "output_type": "execute_result"
    }
   ],
   "source": [
    "# Fit (train) using the training data\n",
    "model.fit(X_train_scaled, y_train)"
   ]
  },
  {
   "cell_type": "code",
   "execution_count": 31,
   "metadata": {},
   "outputs": [
    {
     "name": "stdout",
     "output_type": "stream",
     "text": [
      "0.9989754098360656\n"
     ]
    }
   ],
   "source": [
    "# Validate the model using the test data\n",
    "predictions = model.predict(X_test_scaled)\n",
    "\n",
    "accuracy = accuracy_score(y_test, predictions)\n",
    "print(accuracy)"
   ]
  },
  {
   "cell_type": "code",
   "execution_count": null,
   "metadata": {},
   "outputs": [],
   "source": []
  },
  {
   "cell_type": "code",
   "execution_count": null,
   "metadata": {},
   "outputs": [],
   "source": []
  },
  {
   "cell_type": "code",
   "execution_count": null,
   "metadata": {},
   "outputs": [],
   "source": []
  },
  {
   "cell_type": "code",
   "execution_count": null,
   "metadata": {},
   "outputs": [],
   "source": []
  },
  {
   "cell_type": "code",
   "execution_count": 34,
   "metadata": {
    "scrolled": true
   },
   "outputs": [],
   "source": [
    "target = data_df[\"HOME_TEAM_WINS\"]\n",
    "target_names = [\"loss\", \"win\"]\n",
    "\n"
   ]
  },
  {
   "cell_type": "code",
   "execution_count": 32,
   "metadata": {},
   "outputs": [
    {
     "data": {
      "text/html": [
       "<div>\n",
       "<style scoped>\n",
       "    .dataframe tbody tr th:only-of-type {\n",
       "        vertical-align: middle;\n",
       "    }\n",
       "\n",
       "    .dataframe tbody tr th {\n",
       "        vertical-align: top;\n",
       "    }\n",
       "\n",
       "    .dataframe thead th {\n",
       "        text-align: right;\n",
       "    }\n",
       "</style>\n",
       "<table border=\"1\" class=\"dataframe\">\n",
       "  <thead>\n",
       "    <tr style=\"text-align: right;\">\n",
       "      <th></th>\n",
       "      <th>PTS_home</th>\n",
       "      <th>FG_PCT_home</th>\n",
       "      <th>FT_PCT_home</th>\n",
       "      <th>FG3_PCT_home</th>\n",
       "      <th>AST_home</th>\n",
       "      <th>REB_home</th>\n",
       "      <th>PTS_away</th>\n",
       "      <th>FG_PCT_away</th>\n",
       "      <th>FT_PCT_away</th>\n",
       "      <th>FG3_PCT_away</th>\n",
       "      <th>AST_away</th>\n",
       "      <th>REB_away</th>\n",
       "      <th>HOME_TEAM_WINS</th>\n",
       "      <th>VISITOR_W_PCT</th>\n",
       "    </tr>\n",
       "  </thead>\n",
       "  <tbody>\n",
       "    <tr>\n",
       "      <th>0</th>\n",
       "      <td>120.0</td>\n",
       "      <td>0.433</td>\n",
       "      <td>0.792</td>\n",
       "      <td>0.425</td>\n",
       "      <td>23.0</td>\n",
       "      <td>50.0</td>\n",
       "      <td>117.0</td>\n",
       "      <td>0.444</td>\n",
       "      <td>0.864</td>\n",
       "      <td>0.439</td>\n",
       "      <td>21.0</td>\n",
       "      <td>52.0</td>\n",
       "      <td>1</td>\n",
       "      <td>0.25</td>\n",
       "    </tr>\n",
       "    <tr>\n",
       "      <th>1</th>\n",
       "      <td>99.0</td>\n",
       "      <td>0.427</td>\n",
       "      <td>0.625</td>\n",
       "      <td>0.295</td>\n",
       "      <td>24.0</td>\n",
       "      <td>45.0</td>\n",
       "      <td>96.0</td>\n",
       "      <td>0.402</td>\n",
       "      <td>0.647</td>\n",
       "      <td>0.326</td>\n",
       "      <td>18.0</td>\n",
       "      <td>51.0</td>\n",
       "      <td>1</td>\n",
       "      <td>0.50</td>\n",
       "    </tr>\n",
       "    <tr>\n",
       "      <th>2</th>\n",
       "      <td>116.0</td>\n",
       "      <td>0.400</td>\n",
       "      <td>0.744</td>\n",
       "      <td>0.396</td>\n",
       "      <td>21.0</td>\n",
       "      <td>43.0</td>\n",
       "      <td>117.0</td>\n",
       "      <td>0.422</td>\n",
       "      <td>0.837</td>\n",
       "      <td>0.297</td>\n",
       "      <td>24.0</td>\n",
       "      <td>47.0</td>\n",
       "      <td>0</td>\n",
       "      <td>0.50</td>\n",
       "    </tr>\n",
       "    <tr>\n",
       "      <th>3</th>\n",
       "      <td>107.0</td>\n",
       "      <td>0.371</td>\n",
       "      <td>0.692</td>\n",
       "      <td>0.262</td>\n",
       "      <td>19.0</td>\n",
       "      <td>45.0</td>\n",
       "      <td>113.0</td>\n",
       "      <td>0.533</td>\n",
       "      <td>0.629</td>\n",
       "      <td>0.355</td>\n",
       "      <td>23.0</td>\n",
       "      <td>48.0</td>\n",
       "      <td>0</td>\n",
       "      <td>1.00</td>\n",
       "    </tr>\n",
       "    <tr>\n",
       "      <th>4</th>\n",
       "      <td>105.0</td>\n",
       "      <td>0.380</td>\n",
       "      <td>0.737</td>\n",
       "      <td>0.356</td>\n",
       "      <td>27.0</td>\n",
       "      <td>37.0</td>\n",
       "      <td>117.0</td>\n",
       "      <td>0.534</td>\n",
       "      <td>0.741</td>\n",
       "      <td>0.514</td>\n",
       "      <td>30.0</td>\n",
       "      <td>51.0</td>\n",
       "      <td>0</td>\n",
       "      <td>0.50</td>\n",
       "    </tr>\n",
       "  </tbody>\n",
       "</table>\n",
       "</div>"
      ],
      "text/plain": [
       "   PTS_home  FG_PCT_home  FT_PCT_home  FG3_PCT_home  AST_home  REB_home  \\\n",
       "0     120.0        0.433        0.792         0.425      23.0      50.0   \n",
       "1      99.0        0.427        0.625         0.295      24.0      45.0   \n",
       "2     116.0        0.400        0.744         0.396      21.0      43.0   \n",
       "3     107.0        0.371        0.692         0.262      19.0      45.0   \n",
       "4     105.0        0.380        0.737         0.356      27.0      37.0   \n",
       "\n",
       "   PTS_away  FG_PCT_away  FT_PCT_away  FG3_PCT_away  AST_away  REB_away  \\\n",
       "0     117.0        0.444        0.864         0.439      21.0      52.0   \n",
       "1      96.0        0.402        0.647         0.326      18.0      51.0   \n",
       "2     117.0        0.422        0.837         0.297      24.0      47.0   \n",
       "3     113.0        0.533        0.629         0.355      23.0      48.0   \n",
       "4     117.0        0.534        0.741         0.514      30.0      51.0   \n",
       "\n",
       "   HOME_TEAM_WINS  VISITOR_W_PCT  \n",
       "0               1           0.25  \n",
       "1               1           0.50  \n",
       "2               0           0.50  \n",
       "3               0           1.00  \n",
       "4               0           0.50  "
      ]
     },
     "execution_count": 32,
     "metadata": {},
     "output_type": "execute_result"
    }
   ],
   "source": [
    "data_df.head()"
   ]
  },
  {
   "cell_type": "code",
   "execution_count": 36,
   "metadata": {},
   "outputs": [
    {
     "data": {
      "text/html": [
       "<div>\n",
       "<style scoped>\n",
       "    .dataframe tbody tr th:only-of-type {\n",
       "        vertical-align: middle;\n",
       "    }\n",
       "\n",
       "    .dataframe tbody tr th {\n",
       "        vertical-align: top;\n",
       "    }\n",
       "\n",
       "    .dataframe thead th {\n",
       "        text-align: right;\n",
       "    }\n",
       "</style>\n",
       "<table border=\"1\" class=\"dataframe\">\n",
       "  <thead>\n",
       "    <tr style=\"text-align: right;\">\n",
       "      <th></th>\n",
       "      <th>PTS_home</th>\n",
       "      <th>FG_PCT_home</th>\n",
       "      <th>FT_PCT_home</th>\n",
       "      <th>FG3_PCT_home</th>\n",
       "      <th>AST_home</th>\n",
       "      <th>REB_home</th>\n",
       "      <th>PTS_away</th>\n",
       "      <th>FG_PCT_away</th>\n",
       "      <th>FT_PCT_away</th>\n",
       "      <th>FG3_PCT_away</th>\n",
       "      <th>AST_away</th>\n",
       "      <th>REB_away</th>\n",
       "      <th>VISITOR_W_PCT</th>\n",
       "    </tr>\n",
       "  </thead>\n",
       "  <tbody>\n",
       "    <tr>\n",
       "      <th>0</th>\n",
       "      <td>120.0</td>\n",
       "      <td>0.433</td>\n",
       "      <td>0.792</td>\n",
       "      <td>0.425</td>\n",
       "      <td>23.0</td>\n",
       "      <td>50.0</td>\n",
       "      <td>117.0</td>\n",
       "      <td>0.444</td>\n",
       "      <td>0.864</td>\n",
       "      <td>0.439</td>\n",
       "      <td>21.0</td>\n",
       "      <td>52.0</td>\n",
       "      <td>0.25</td>\n",
       "    </tr>\n",
       "    <tr>\n",
       "      <th>1</th>\n",
       "      <td>99.0</td>\n",
       "      <td>0.427</td>\n",
       "      <td>0.625</td>\n",
       "      <td>0.295</td>\n",
       "      <td>24.0</td>\n",
       "      <td>45.0</td>\n",
       "      <td>96.0</td>\n",
       "      <td>0.402</td>\n",
       "      <td>0.647</td>\n",
       "      <td>0.326</td>\n",
       "      <td>18.0</td>\n",
       "      <td>51.0</td>\n",
       "      <td>0.50</td>\n",
       "    </tr>\n",
       "    <tr>\n",
       "      <th>2</th>\n",
       "      <td>116.0</td>\n",
       "      <td>0.400</td>\n",
       "      <td>0.744</td>\n",
       "      <td>0.396</td>\n",
       "      <td>21.0</td>\n",
       "      <td>43.0</td>\n",
       "      <td>117.0</td>\n",
       "      <td>0.422</td>\n",
       "      <td>0.837</td>\n",
       "      <td>0.297</td>\n",
       "      <td>24.0</td>\n",
       "      <td>47.0</td>\n",
       "      <td>0.50</td>\n",
       "    </tr>\n",
       "    <tr>\n",
       "      <th>3</th>\n",
       "      <td>107.0</td>\n",
       "      <td>0.371</td>\n",
       "      <td>0.692</td>\n",
       "      <td>0.262</td>\n",
       "      <td>19.0</td>\n",
       "      <td>45.0</td>\n",
       "      <td>113.0</td>\n",
       "      <td>0.533</td>\n",
       "      <td>0.629</td>\n",
       "      <td>0.355</td>\n",
       "      <td>23.0</td>\n",
       "      <td>48.0</td>\n",
       "      <td>1.00</td>\n",
       "    </tr>\n",
       "    <tr>\n",
       "      <th>4</th>\n",
       "      <td>105.0</td>\n",
       "      <td>0.380</td>\n",
       "      <td>0.737</td>\n",
       "      <td>0.356</td>\n",
       "      <td>27.0</td>\n",
       "      <td>37.0</td>\n",
       "      <td>117.0</td>\n",
       "      <td>0.534</td>\n",
       "      <td>0.741</td>\n",
       "      <td>0.514</td>\n",
       "      <td>30.0</td>\n",
       "      <td>51.0</td>\n",
       "      <td>0.50</td>\n",
       "    </tr>\n",
       "  </tbody>\n",
       "</table>\n",
       "</div>"
      ],
      "text/plain": [
       "   PTS_home  FG_PCT_home  FT_PCT_home  FG3_PCT_home  AST_home  REB_home  \\\n",
       "0     120.0        0.433        0.792         0.425      23.0      50.0   \n",
       "1      99.0        0.427        0.625         0.295      24.0      45.0   \n",
       "2     116.0        0.400        0.744         0.396      21.0      43.0   \n",
       "3     107.0        0.371        0.692         0.262      19.0      45.0   \n",
       "4     105.0        0.380        0.737         0.356      27.0      37.0   \n",
       "\n",
       "   PTS_away  FG_PCT_away  FT_PCT_away  FG3_PCT_away  AST_away  REB_away  \\\n",
       "0     117.0        0.444        0.864         0.439      21.0      52.0   \n",
       "1      96.0        0.402        0.647         0.326      18.0      51.0   \n",
       "2     117.0        0.422        0.837         0.297      24.0      47.0   \n",
       "3     113.0        0.533        0.629         0.355      23.0      48.0   \n",
       "4     117.0        0.534        0.741         0.514      30.0      51.0   \n",
       "\n",
       "   VISITOR_W_PCT  \n",
       "0           0.25  \n",
       "1           0.50  \n",
       "2           0.50  \n",
       "3           1.00  \n",
       "4           0.50  "
      ]
     },
     "execution_count": 36,
     "metadata": {},
     "output_type": "execute_result"
    }
   ],
   "source": [
    "data_1 = data_df.drop(\"HOME_TEAM_WINS\", axis=1)\n",
    "feature_names = data_1.columns\n",
    "data_1.head()"
   ]
  },
  {
   "cell_type": "code",
   "execution_count": 37,
   "metadata": {},
   "outputs": [],
   "source": [
    "from sklearn.model_selection import train_test_split\n",
    "X_train, X_test, y_train, y_test = train_test_split(data_1, target, random_state=42)"
   ]
  },
  {
   "cell_type": "code",
   "execution_count": 38,
   "metadata": {},
   "outputs": [
    {
     "data": {
      "text/plain": [
       "0.9953893442622951"
      ]
     },
     "execution_count": 38,
     "metadata": {},
     "output_type": "execute_result"
    }
   ],
   "source": [
    "clf = tree.DecisionTreeClassifier()\n",
    "clf = clf.fit(X_train, y_train)\n",
    "clf.score(X_test, y_test)"
   ]
  },
  {
   "cell_type": "code",
   "execution_count": 39,
   "metadata": {},
   "outputs": [
    {
     "data": {
      "text/plain": [
       "0.9803620218579235"
      ]
     },
     "execution_count": 39,
     "metadata": {},
     "output_type": "execute_result"
    }
   ],
   "source": [
    "from sklearn.ensemble import RandomForestClassifier\n",
    "rf = RandomForestClassifier(n_estimators=200)\n",
    "rf = rf.fit(X_train, y_train)\n",
    "rf.score(X_test, y_test)"
   ]
  },
  {
   "cell_type": "code",
   "execution_count": 40,
   "metadata": {},
   "outputs": [
    {
     "data": {
      "text/plain": [
       "[(0.239287488791825, 'PTS_home'),\n",
       " (0.23390289245893053, 'PTS_away'),\n",
       " (0.11875454788585631, 'FG_PCT_away'),\n",
       " (0.11081104920662548, 'FG_PCT_home'),\n",
       " (0.06345780642487871, 'VISITOR_W_PCT'),\n",
       " (0.04018799428380617, 'FG3_PCT_home'),\n",
       " (0.033622482078754234, 'FG3_PCT_away'),\n",
       " (0.03176810707991035, 'AST_home'),\n",
       " (0.0313891817663427, 'REB_away'),\n",
       " (0.029689093327420854, 'REB_home'),\n",
       " (0.027378414500286614, 'AST_away'),\n",
       " (0.02031946570616765, 'FT_PCT_home'),\n",
       " (0.01943147648919532, 'FT_PCT_away')]"
      ]
     },
     "execution_count": 40,
     "metadata": {},
     "output_type": "execute_result"
    }
   ],
   "source": [
    "sorted(zip(rf.feature_importances_, feature_names), reverse=True)"
   ]
  },
  {
   "cell_type": "code",
   "execution_count": null,
   "metadata": {},
   "outputs": [],
   "source": []
  },
  {
   "cell_type": "code",
   "execution_count": null,
   "metadata": {},
   "outputs": [],
   "source": []
  }
 ],
 "metadata": {
  "kernelspec": {
   "display_name": "Python 3",
   "language": "python",
   "name": "python3"
  },
  "language_info": {
   "codemirror_mode": {
    "name": "ipython",
    "version": 3
   },
   "file_extension": ".py",
   "mimetype": "text/x-python",
   "name": "python",
   "nbconvert_exporter": "python",
   "pygments_lexer": "ipython3",
   "version": "3.6.10"
  }
 },
 "nbformat": 4,
 "nbformat_minor": 4
}
